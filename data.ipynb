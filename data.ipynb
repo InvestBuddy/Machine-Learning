{
 "cells": [
  {
   "cell_type": "code",
   "execution_count": 473,
   "metadata": {},
   "outputs": [
    {
     "name": "stdout",
     "output_type": "stream",
     "text": [
      "Aperçu des premières lignes du dataset :\n",
      "                              Nom  Genre        Ville  Age    Revenu  \\\n",
      "0  Constance Olivier Le LemaÃ®tre  Femme        Paris   48  91061.68   \n",
      "1                    AdÃ¨le Duval  Homme  Montpellier   60  95493.18   \n",
      "2         Simone Masson de Collin  Femme         Nice   40  84344.87   \n",
      "3           Gabrielle Pichon-Paul  Femme         Lyon   44  59332.79   \n",
      "4               Martin Le Chauvin  Femme       Nantes   40  75818.07   \n",
      "\n",
      "  Tolérance au Risque   Historique d'Investissement   Objectif Financier  \\\n",
      "0               Élevé          Actions, Obligations             Retraite   \n",
      "1               Moyen              ETF, Fundraising  Épargne de sécurité   \n",
      "2               Élevé       Obligations, Immobilier             Retraite   \n",
      "3               Moyen          Actions, Obligations             Retraite   \n",
      "4               Élevé  Fundraising, ETF, Immobilier     Achat immobilier   \n",
      "\n",
      "  Secteur Préféré Fréquence d'Investissement Domaine Recommandé  \n",
      "0           Santé                    Mensuel            Actions  \n",
      "1       Industrie                Trimestriel        Obligations  \n",
      "2         Finance                    Mensuel            Actions  \n",
      "3      Immobilier                Trimestriel         Immobilier  \n",
      "4           Santé                Trimestriel                ETF  \n"
     ]
    }
   ],
   "source": [
    "import pandas as pd\n",
    "from sklearn.model_selection import train_test_split\n",
    "from sklearn.preprocessing import LabelEncoder\n",
    "from sklearn.ensemble import RandomForestClassifier\n",
    "from sklearn.metrics import classification_report, accuracy_score\n",
    "\n",
    "# Chargement des données\n",
    "\n",
    "file_path = 'C:/Users/benab/OneDrive/Bureau/ML-JEE/enhanced_investment_data.csv'\n",
    "data = pd.read_csv(file_path,encoding='ISO-8859-1')\n",
    "\n",
    "# Afficher un aperçu des données\n",
    "print(\"Aperçu des premières lignes du dataset :\")\n",
    "print(data.head())"
   ]
  },
  {
   "cell_type": "code",
   "execution_count": 474,
   "metadata": {},
   "outputs": [
    {
     "name": "stdout",
     "output_type": "stream",
     "text": [
      "\n",
      "Informations générales sur le dataset :\n",
      "<class 'pandas.core.frame.DataFrame'>\n",
      "RangeIndex: 1000 entries, 0 to 999\n",
      "Data columns (total 11 columns):\n",
      " #   Column                       Non-Null Count  Dtype  \n",
      "---  ------                       --------------  -----  \n",
      " 0   Nom                          1000 non-null   object \n",
      " 1   Genre                        1000 non-null   object \n",
      " 2   Ville                        1000 non-null   object \n",
      " 3   Age                          1000 non-null   int64  \n",
      " 4   Revenu                       1000 non-null   float64\n",
      " 5   Tolérance au Risque          1000 non-null   object \n",
      " 6   Historique d'Investissement  1000 non-null   object \n",
      " 7   Objectif Financier           1000 non-null   object \n",
      " 8   Secteur Préféré              1000 non-null   object \n",
      " 9   Fréquence d'Investissement   1000 non-null   object \n",
      " 10  Domaine Recommandé           1000 non-null   object \n",
      "dtypes: float64(1), int64(1), object(9)\n",
      "memory usage: 86.1+ KB\n",
      "None\n"
     ]
    }
   ],
   "source": [
    "# 1. Vérification des informations de base sur le dataset\n",
    "print(\"\\nInformations générales sur le dataset :\")\n",
    "print(data.info())"
   ]
  },
  {
   "cell_type": "code",
   "execution_count": 475,
   "metadata": {},
   "outputs": [
    {
     "name": "stdout",
     "output_type": "stream",
     "text": [
      "\n",
      "Valeurs manquantes par colonne :\n",
      "Nom                            0\n",
      "Genre                          0\n",
      "Ville                          0\n",
      "Age                            0\n",
      "Revenu                         0\n",
      "Tolérance au Risque            0\n",
      "Historique d'Investissement    0\n",
      "Objectif Financier             0\n",
      "Secteur Préféré                0\n",
      "Fréquence d'Investissement     0\n",
      "Domaine Recommandé             0\n",
      "dtype: int64\n"
     ]
    }
   ],
   "source": [
    "# 2. Vérification des valeurs manquantes\n",
    "print(\"\\nValeurs manquantes par colonne :\")\n",
    "print(data.isnull().sum())"
   ]
  },
  {
   "cell_type": "code",
   "execution_count": 476,
   "metadata": {},
   "outputs": [
    {
     "name": "stdout",
     "output_type": "stream",
     "text": [
      "\n",
      "Nombre de doublons avant suppression : 0\n",
      "Nombre de doublons après suppression : 0\n"
     ]
    }
   ],
   "source": [
    "# 3. Suppression des doublons\n",
    "print(\"\\nNombre de doublons avant suppression :\", data.duplicated().sum())\n",
    "data = data.drop_duplicates()\n",
    "print(\"Nombre de doublons après suppression :\", data.duplicated().sum())"
   ]
  },
  {
   "cell_type": "code",
   "execution_count": 477,
   "metadata": {},
   "outputs": [],
   "source": [
    "# 4. Nettoyage des chaînes de caractères (suppression des espaces inutiles, mise en minuscule)\n",
    "def clean_text_columns(df, columns):\n",
    "    for col in columns:\n",
    "        df[col] = df[col].str.strip().str.lower()\n",
    "    return df\n",
    "\n",
    "text_columns = ['Nom', 'Genre', 'Ville', 'Tolérance au Risque', 'Historique d\\'Investissement',\n",
    "                 'Objectif Financier', 'Secteur Préféré', 'Fréquence d\\'Investissement', 'Domaine Recommandé']\n",
    "data = clean_text_columns(data, text_columns)"
   ]
  },
  {
   "cell_type": "code",
   "execution_count": 478,
   "metadata": {},
   "outputs": [],
   "source": [
    "# 5. Harmonisation des genres\n",
    "data['Genre'] = data['Genre'].replace({'homme': 'Homme', 'femme': 'Femme'})"
   ]
  },
  {
   "cell_type": "code",
   "execution_count": 479,
   "metadata": {},
   "outputs": [
    {
     "name": "stdout",
     "output_type": "stream",
     "text": [
      "\n",
      "Catégories uniques pour Genre :\n",
      "['Femme' 'Homme']\n"
     ]
    }
   ],
   "source": [
    "# 6. Affichage des catégories uniques dans certaines colonnes pour vérification\n",
    "print(\"\\nCatégories uniques pour Genre :\")\n",
    "print(data['Genre'].unique())"
   ]
  },
  {
   "cell_type": "code",
   "execution_count": 480,
   "metadata": {},
   "outputs": [
    {
     "name": "stdout",
     "output_type": "stream",
     "text": [
      "\n",
      "Catégories uniques pour Tolérance au Risque :\n",
      "['élevé' 'moyen' 'faible']\n"
     ]
    }
   ],
   "source": [
    "print(\"\\nCatégories uniques pour Tolérance au Risque :\")\n",
    "print(data['Tolérance au Risque'].unique())"
   ]
  },
  {
   "cell_type": "code",
   "execution_count": 481,
   "metadata": {},
   "outputs": [
    {
     "name": "stdout",
     "output_type": "stream",
     "text": [
      "\n",
      "Catégories uniques pour Fréquence d'Investissement :\n",
      "['mensuel' 'trimestriel' 'annuel']\n"
     ]
    }
   ],
   "source": [
    "print(\"\\nCatégories uniques pour Fréquence d'Investissement :\")\n",
    "print(data['Fréquence d\\'Investissement'].unique())"
   ]
  },
  {
   "cell_type": "code",
   "execution_count": 482,
   "metadata": {},
   "outputs": [
    {
     "name": "stdout",
     "output_type": "stream",
     "text": [
      "\n",
      "Catégories uniques pour Domaine Recommandé :\n",
      "['actions' 'obligations' 'immobilier' 'etf' 'cryptomonnaies' 'startups']\n"
     ]
    }
   ],
   "source": [
    "print(\"\\nCatégories uniques pour Domaine Recommandé :\")\n",
    "print(data['Domaine Recommandé'].unique())"
   ]
  },
  {
   "cell_type": "code",
   "execution_count": 483,
   "metadata": {},
   "outputs": [],
   "source": [
    "# 7. Encodage optionnel (si nécessaire pour le Machine Learning)\n",
    "from sklearn.preprocessing import LabelEncoder\n",
    "\n",
    "encoder = LabelEncoder()\n",
    "encoded_columns = ['Genre', 'Tolérance au Risque', 'Objectif Financier', 'Secteur Préféré', 'Fréquence d\\'Investissement', 'Domaine Recommandé']\n",
    "for col in encoded_columns:\n",
    "    data[col] = encoder.fit_transform(data[col])"
   ]
  },
  {
   "cell_type": "code",
   "execution_count": 484,
   "metadata": {},
   "outputs": [
    {
     "name": "stdout",
     "output_type": "stream",
     "text": [
      "\n",
      "Résumé statistique des colonnes numériques :\n",
      "             Genre          Age         Revenu  Tolérance au Risque  \\\n",
      "count  1000.000000  1000.000000    1000.000000          1000.000000   \n",
      "mean      0.487000    42.039000   61025.692030             1.323000   \n",
      "std       0.500081    11.038357   28184.942734             0.488784   \n",
      "min       0.000000    25.000000    5843.110000             0.000000   \n",
      "25%       0.000000    34.000000   40586.727500             1.000000   \n",
      "50%       0.000000    42.000000   56614.175000             1.000000   \n",
      "75%       1.000000    50.000000   76320.660000             2.000000   \n",
      "max       1.000000    70.000000  164195.870000             2.000000   \n",
      "\n",
      "       Objectif Financier  Secteur Préféré  Fréquence d'Investissement  \\\n",
      "count         1000.000000       1000.00000                 1000.000000   \n",
      "mean             2.619000          3.38900                    1.716000   \n",
      "std              1.760949          1.80913                    0.582824   \n",
      "min              0.000000          0.00000                    0.000000   \n",
      "25%              2.000000          2.00000                    2.000000   \n",
      "50%              2.000000          3.00000                    2.000000   \n",
      "75%              4.000000          5.00000                    2.000000   \n",
      "max              6.000000          6.00000                    2.000000   \n",
      "\n",
      "       Domaine Recommandé  \n",
      "count         1000.000000  \n",
      "mean             2.368000  \n",
      "std              1.351445  \n",
      "min              0.000000  \n",
      "25%              2.000000  \n",
      "50%              3.000000  \n",
      "75%              3.000000  \n",
      "max              5.000000  \n"
     ]
    }
   ],
   "source": [
    "# 8. Résumé statistique des colonnes numériques\n",
    "print(\"\\nRésumé statistique des colonnes numériques :\")\n",
    "print(data.describe())"
   ]
  },
  {
   "cell_type": "code",
   "execution_count": 485,
   "metadata": {},
   "outputs": [
    {
     "name": "stdout",
     "output_type": "stream",
     "text": [
      "\n",
      "Informations générales sur le dataset :\n",
      "<class 'pandas.core.frame.DataFrame'>\n",
      "RangeIndex: 1000 entries, 0 to 999\n",
      "Data columns (total 11 columns):\n",
      " #   Column                       Non-Null Count  Dtype  \n",
      "---  ------                       --------------  -----  \n",
      " 0   Nom                          1000 non-null   object \n",
      " 1   Genre                        1000 non-null   int32  \n",
      " 2   Ville                        1000 non-null   object \n",
      " 3   Age                          1000 non-null   int64  \n",
      " 4   Revenu                       1000 non-null   float64\n",
      " 5   Tolérance au Risque          1000 non-null   int32  \n",
      " 6   Historique d'Investissement  1000 non-null   object \n",
      " 7   Objectif Financier           1000 non-null   int32  \n",
      " 8   Secteur Préféré              1000 non-null   int32  \n",
      " 9   Fréquence d'Investissement   1000 non-null   int32  \n",
      " 10  Domaine Recommandé           1000 non-null   int32  \n",
      "dtypes: float64(1), int32(6), int64(1), object(3)\n",
      "memory usage: 62.6+ KB\n",
      "None\n"
     ]
    }
   ],
   "source": [
    "# 1. Vérification des informations de base sur le dataset\n",
    "print(\"\\nInformations générales sur le dataset :\")\n",
    "print(data.info())"
   ]
  },
  {
   "cell_type": "code",
   "execution_count": 486,
   "metadata": {},
   "outputs": [],
   "source": [
    "# 1. Suppression de la colonne \"Nom\" (non utile pour le ML)\n",
    "data = data.drop(columns=['Nom'])\n",
    "\n",
    "# 2. Encodage des villes (Label Encoding)\n",
    "data['Ville'] = encoder.fit_transform(data['Ville'])"
   ]
  },
  {
   "cell_type": "code",
   "execution_count": 487,
   "metadata": {},
   "outputs": [
    {
     "name": "stdout",
     "output_type": "stream",
     "text": [
      "\n",
      "Aperçu des données après encodage de 'Historique d'Investissement' :\n",
      "   Genre  Ville  Age    Revenu  Tolérance au Risque  \\\n",
      "0      0      7   48  91061.68                    2   \n",
      "1      1      4   60  95493.18                    1   \n",
      "2      0      6   40  84344.87                    2   \n",
      "3      0      2   44  59332.79                    1   \n",
      "4      0      5   40  75818.07                    2   \n",
      "\n",
      "  Historique d'Investissement  Objectif Financier  Secteur Préféré  \\\n",
      "0          110000000000001100                   2                5   \n",
      "1          000011110000000000                   6                4   \n",
      "2          000000001100001100                   2                2   \n",
      "3          110000000000001100                   2                3   \n",
      "4          000011111100000000                   0                5   \n",
      "\n",
      "   Fréquence d'Investissement  Domaine Recommandé  \n",
      "0                           1                   0  \n",
      "1                           2                   4  \n",
      "2                           1                   0  \n",
      "3                           2                   3  \n",
      "4                           2                   2  \n"
     ]
    }
   ],
   "source": [
    "# Liste des types d'investissements possibles\n",
    "investment_types = set()\n",
    "data['Historique d\\'Investissement'].apply(lambda x: investment_types.update(x.split(',')))\n",
    "\n",
    "# Nettoyer et ordonner les types d'investissement\n",
    "investment_types = sorted([inv_type.strip().lower() for inv_type in investment_types])\n",
    "\n",
    "# Encoder la colonne \"Historique d'Investissement\" en une chaîne binaire\n",
    "def encode_investments(investment_string, investment_types):\n",
    "    # Convertir en binaire selon les types d'investissement\n",
    "    investment_string = investment_string.lower()\n",
    "    return ''.join(['1' if inv_type in investment_string else '0' for inv_type in investment_types])\n",
    "\n",
    "# Appliquer l'encodage dans la même colonne\n",
    "data['Historique d\\'Investissement'] = data['Historique d\\'Investissement'].apply(lambda x: encode_investments(x, investment_types))\n",
    "\n",
    "print(\"\\nAperçu des données après encodage de 'Historique d'Investissement' :\")\n",
    "print(data.head())\n"
   ]
  },
  {
   "cell_type": "code",
   "execution_count": 488,
   "metadata": {},
   "outputs": [
    {
     "name": "stdout",
     "output_type": "stream",
     "text": [
      "\n",
      "Informations générales sur le dataset :\n",
      "<class 'pandas.core.frame.DataFrame'>\n",
      "RangeIndex: 1000 entries, 0 to 999\n",
      "Data columns (total 10 columns):\n",
      " #   Column                       Non-Null Count  Dtype  \n",
      "---  ------                       --------------  -----  \n",
      " 0   Genre                        1000 non-null   int32  \n",
      " 1   Ville                        1000 non-null   int32  \n",
      " 2   Age                          1000 non-null   int64  \n",
      " 3   Revenu                       1000 non-null   float64\n",
      " 4   Tolérance au Risque          1000 non-null   int32  \n",
      " 5   Historique d'Investissement  1000 non-null   object \n",
      " 6   Objectif Financier           1000 non-null   int32  \n",
      " 7   Secteur Préféré              1000 non-null   int32  \n",
      " 8   Fréquence d'Investissement   1000 non-null   int32  \n",
      " 9   Domaine Recommandé           1000 non-null   int32  \n",
      "dtypes: float64(1), int32(7), int64(1), object(1)\n",
      "memory usage: 50.9+ KB\n",
      "None\n"
     ]
    }
   ],
   "source": [
    "# 1. Vérification des informations de base sur le dataset\n",
    "print(\"\\nInformations générales sur le dataset :\")\n",
    "print(data.info())"
   ]
  },
  {
   "cell_type": "code",
   "execution_count": 489,
   "metadata": {},
   "outputs": [
    {
     "name": "stdout",
     "output_type": "stream",
     "text": [
      "Mapping des valeurs encodées : {0: 0, 1: 1, 2: 2, 3: 3, 4: 4, 5: 5}\n"
     ]
    }
   ],
   "source": [
    "# Encodage de la colonne cible avec LabelEncoder\n",
    "from sklearn.preprocessing import LabelEncoder\n",
    "\n",
    "encoder = LabelEncoder()\n",
    "data['Domaine Recommandé'] = encoder.fit_transform(data['Domaine Recommandé'])\n",
    "\n",
    "# Affichage des correspondances (catégorie -> valeur numérique)\n",
    "label_mapping = dict(zip(encoder.classes_, encoder.transform(encoder.classes_)))\n",
    "print(\"Mapping des valeurs encodées :\", label_mapping)\n"
   ]
  },
  {
   "cell_type": "code",
   "execution_count": 490,
   "metadata": {},
   "outputs": [],
   "source": [
    "# 9. Sauvegarde du dataset nettoyé\n",
    "#cleaned_file_path = \"newdata1.csv\"\n",
    "#data.to_csv(cleaned_file_path, index=False)\n",
    "#print(f\"\\nDataset nettoyé sauvegardé sous : {cleaned_file_path}\")"
   ]
  },
  {
   "cell_type": "code",
   "execution_count": 491,
   "metadata": {},
   "outputs": [
    {
     "name": "stdout",
     "output_type": "stream",
     "text": [
      "\n",
      "Mappings des colonnes encodées :\n",
      "\n",
      "Historique d'Investissement : {'000000000000000011': 0, '000000000000001100': 1, '000000000000001111': 2, '000000000000011111': 3, '000000000000100000': 4, '000000000000100011': 5, '000000000000101100': 6, '000000000011001100': 7, '000000000011010000': 8, '000000000011100000': 9, '000000000011101100': 10, '000000001100000000': 11, '000000001100000011': 12, '000000001100001100': 13, '000000001100001111': 14, '000000001100011100': 15, '000000001100100000': 16, '000000001111000000': 17, '000000001111001100': 18, '000000110000000000': 19, '000000110000000011': 20, '000000110000001100': 21, '000000110000001111': 22, '000000110000100000': 23, '000000110011000000': 24, '000000111100000000': 25, '000000111100001100': 26, '000011000000000000': 27, '000011000000000011': 28, '000011000000001100': 29, '000011000000001111': 30, '000011000000011111': 31, '000011000000100000': 32, '000011000000101100': 33, '000011000011000000': 34, '000011000011000011': 35, '000011000011001100': 36, '000011001100000000': 37, '000011001100000011': 38, '000011001100001100': 39, '000011001100001111': 40, '000011001100011100': 41, '000011001100100000': 42, '000011001111000000': 43, '000011110000000000': 44, '000011110000001100': 45, '000011110000001111': 46, '000011110000011100': 47, '000011110000100000': 48, '000011111100000000': 49, '000011111100001100': 50, '000011111111000000': 51, '001100000000000000': 52, '001100000000000011': 53, '001100000000001100': 54, '001100000000001111': 55, '001100000000010000': 56, '001100000000010011': 57, '001100000000011100': 58, '001100000000011111': 59, '001100001100000000': 60, '001100001100000011': 61, '001100001100001100': 62, '001100001100010000': 63, '001100001100011100': 64, '001100001111001100': 65, '001100110000000000': 66, '001100110000000011': 67, '001100110000001100': 68, '001100110000001111': 69, '001100111100000000': 70, '001100111100010000': 71, '001111000000000000': 72, '001111000000000011': 73, '001111000000001100': 74, '001111000000001111': 75, '001111000000010000': 76, '001111000000010011': 77, '001111000011000000': 78, '001111000011011100': 79, '001111001100000000': 80, '001111001100000011': 81, '001111001100001100': 82, '001111001100010000': 83, '001111110000000000': 84, '001111111100000011': 85, '110000000000000000': 86, '110000000000000011': 87, '110000000000001100': 88, '110000000000001111': 89, '110000000000010000': 90, '110000000000011100': 91, '110000000000100000': 92, '110000000000100011': 93, '110000000000101100': 94, '110000000011000000': 95, '110000000011010000': 96, '110000000011010011': 97, '110000001100000000': 98, '110000001100000011': 99, '110000001100001100': 100, '110000001100010000': 101, '110000001100011100': 102, '110000001100100000': 103, '110000001100101100': 104, '110000001100101111': 105, '110000001111000000': 106, '110000001111001100': 107, '110000110000000000': 108, '110000110000000011': 109, '110000110000001100': 110, '110000110000001111': 111, '110000110011000000': 112, '110000111100000000': 113, '110000111100011100': 114, '110011000000000000': 115, '110011000000000011': 116, '110011000000001100': 117, '110011000000001111': 118, '110011000000010000': 119, '110011000000011100': 120, '110011000000100000': 121, '110011000000101100': 122, '110011000011000000': 123, '110011000011001100': 124, '110011001100000000': 125, '110011001100000011': 126, '110011001100001100': 127, '110011001100100000': 128, '110011001100100011': 129, '110011001100101100': 130, '110011001111000000': 131, '110011001111001100': 132, '110011001111010000': 133, '110011110000000000': 134, '110011110000000011': 135, '110011111100000000': 136, '111100000000000000': 137, '111100000000000011': 138, '111100000000001100': 139, '111100000000001111': 140, '111100000000010000': 141, '111100000000011100': 142, '111100000011000000': 143, '111100001100000000': 144, '111100001100000011': 145, '111100001100001100': 146, '111100001100010000': 147, '111100110000000000': 148, '111100110000001100': 149, '111100110000001111': 150, '111100110000010000': 151, '111100111100000000': 152, '111100111100001100': 153, '111111000000000000': 154, '111111000000000011': 155, '111111000000001100': 156, '111111000000010000': 157, '111111000000101100': 158, '111111000011000000': 159, '111111001100000000': 160, '111111001100000011': 161, '111111001100001100': 162, '111111110000000000': 163}\n",
      "\n",
      "Aperçu des premières lignes des données encodées :\n",
      "   Genre  Ville  Age    Revenu  Tolérance au Risque  \\\n",
      "0      0      7   48  91061.68                    2   \n",
      "1      1      4   60  95493.18                    1   \n",
      "2      0      6   40  84344.87                    2   \n",
      "3      0      2   44  59332.79                    1   \n",
      "4      0      5   40  75818.07                    2   \n",
      "\n",
      "   Historique d'Investissement  Objectif Financier  Secteur Préféré  \\\n",
      "0                           88                   2                5   \n",
      "1                           44                   6                4   \n",
      "2                           13                   2                2   \n",
      "3                           88                   2                3   \n",
      "4                           49                   0                5   \n",
      "\n",
      "   Fréquence d'Investissement  Domaine Recommandé  \n",
      "0                           1                   0  \n",
      "1                           2                   4  \n",
      "2                           1                   0  \n",
      "3                           2                   3  \n",
      "4                           2                   2  \n"
     ]
    }
   ],
   "source": [
    "# Trouver les colonnes de type 'object'\n",
    "object_columns = data.select_dtypes(include=['object']).columns\n",
    "\n",
    "# Initialiser un dictionnaire pour sauvegarder les mappings\n",
    "encoders = {}\n",
    "encoded_data = data.copy()\n",
    "\n",
    "# Encoder chaque colonne de type 'object'\n",
    "for col in object_columns:\n",
    "    encoder = LabelEncoder()\n",
    "    encoded_data[col] = encoder.fit_transform(encoded_data[col])\n",
    "    encoders[col] = dict(zip(encoder.classes_, encoder.transform(encoder.classes_)))  # Sauvegarder le mapping pour chaque colonne\n",
    "\n",
    "# Affichage des encodages réalisés\n",
    "print(\"\\nMappings des colonnes encodées :\")\n",
    "for col, mapping in encoders.items():\n",
    "    print(f\"\\n{col} : {mapping}\")\n",
    "# Aperçu des données encodées\n",
    "print(\"\\nAperçu des premières lignes des données encodées :\")\n",
    "print(encoded_data.head())\n",
    "# Sauvegarder le dataset encodé si besoin\n",
    "#encoded_file_path = \"encoded_user_investment_data.csv\"\n",
    "#encoded_data.to_csv(encoded_file_path, index=False)\n",
    "#print(f\"\\nDataset encodé sauvegardé sous : {encoded_file_path}\")\n"
   ]
  },
  {
   "cell_type": "code",
   "execution_count": 492,
   "metadata": {},
   "outputs": [
    {
     "name": "stdout",
     "output_type": "stream",
     "text": [
      "\n",
      "Informations générales sur le dataset :\n",
      "<class 'pandas.core.frame.DataFrame'>\n",
      "RangeIndex: 1000 entries, 0 to 999\n",
      "Data columns (total 10 columns):\n",
      " #   Column                       Non-Null Count  Dtype  \n",
      "---  ------                       --------------  -----  \n",
      " 0   Genre                        1000 non-null   int32  \n",
      " 1   Ville                        1000 non-null   int32  \n",
      " 2   Age                          1000 non-null   int64  \n",
      " 3   Revenu                       1000 non-null   float64\n",
      " 4   Tolérance au Risque          1000 non-null   int32  \n",
      " 5   Historique d'Investissement  1000 non-null   object \n",
      " 6   Objectif Financier           1000 non-null   int32  \n",
      " 7   Secteur Préféré              1000 non-null   int32  \n",
      " 8   Fréquence d'Investissement   1000 non-null   int32  \n",
      " 9   Domaine Recommandé           1000 non-null   int64  \n",
      "dtypes: float64(1), int32(6), int64(2), object(1)\n",
      "memory usage: 54.8+ KB\n",
      "None\n"
     ]
    }
   ],
   "source": [
    "# 1. Vérification des informations de base sur le dataset\n",
    "print(\"\\nInformations générales sur le dataset :\")\n",
    "print(data.info())"
   ]
  },
  {
   "cell_type": "code",
   "execution_count": 493,
   "metadata": {},
   "outputs": [
    {
     "name": "stdout",
     "output_type": "stream",
     "text": [
      "Nombre de lignes après équilibrage : 1824\n",
      "Distribution des classes après SMOTE : Domaine Recommandé\n",
      "0    304\n",
      "4    304\n",
      "3    304\n",
      "2    304\n",
      "1    304\n",
      "5    304\n",
      "Name: count, dtype: int64\n"
     ]
    },
    {
     "name": "stdout",
     "output_type": "stream",
     "text": [
      "Random Forest - Précision : 83.00%\n"
     ]
    }
   ],
   "source": [
    "import pandas as pd\n",
    "from sklearn.model_selection import train_test_split\n",
    "from sklearn.metrics import accuracy_score\n",
    "from sklearn.ensemble import RandomForestClassifier\n",
    "from sklearn.preprocessing import LabelEncoder\n",
    "import warnings\n",
    "from imblearn.over_sampling import SMOTE\n",
    "\n",
    "\n",
    "# Ignorer les warnings\n",
    "warnings.filterwarnings(\"ignore\")\n",
    "\n",
    "# Séparation des variables explicatives (X) et de la cible (y)\n",
    "X = data.drop(columns=['Domaine Recommandé'])  # Features\n",
    "y = data['Domaine Recommandé']  # Target\n",
    "\n",
    "# Appliquer SMOTE pour équilibrer les classes\n",
    "smote = SMOTE(random_state=42)\n",
    "X_balanced, y_balanced = smote.fit_resample(X, y)\n",
    "\n",
    "print(f\"Nombre de lignes après équilibrage : {len(y_balanced)}\")\n",
    "print(f\"Distribution des classes après SMOTE : {y_balanced.value_counts()}\")\n",
    "\n",
    "# Encoder la colonne \"Historique d'Investissement\"\n",
    "encoder = LabelEncoder()\n",
    "X['Historique d\\'Investissement'] = encoder.fit_transform(X['Historique d\\'Investissement'])\n",
    "\n",
    "# Division en ensemble d'entraînement et de test\n",
    "X_train, X_test, y_train, y_test = train_test_split(X, y, test_size=0.2, random_state=42)\n",
    "\n",
    "rf_model = RandomForestClassifier(\n",
    "    n_estimators=100,\n",
    "    class_weight=\"balanced\",  # Pondération automatique des classes\n",
    "    random_state=42\n",
    ")\n",
    "\n",
    "rf_model.fit(X_train, y_train)\n",
    "\n",
    "# Prédictions\n",
    "y_pred = rf_model.predict(X_test)\n",
    "\n",
    "# Évaluation\n",
    "accuracy = accuracy_score(y_test, y_pred)\n",
    "print(f\"Random Forest - Précision : {accuracy * 100:.2f}%\")\n"
   ]
  },
  {
   "cell_type": "code",
   "execution_count": 494,
   "metadata": {},
   "outputs": [
    {
     "name": "stdout",
     "output_type": "stream",
     "text": [
      "Modèle enregistré dans 'lsi2.pkl'\n"
     ]
    }
   ],
   "source": [
    "import pickle\n",
    "\n",
    "# Enregistrer le modèle entraîné\n",
    "with open(\"lsi2.pkl\", \"wb\") as f:\n",
    "    pickle.dump(model, f)\n",
    "\n",
    "print(\"Modèle enregistré dans 'lsi2.pkl'\")\n"
   ]
  },
  {
   "cell_type": "code",
   "execution_count": 495,
   "metadata": {},
   "outputs": [
    {
     "name": "stdout",
     "output_type": "stream",
     "text": [
      "['Genre' 'Ville' 'Age' 'Revenu' 'Tolérance au Risque'\n",
      " \"Historique d'Investissement\" 'Objectif Financier' 'Secteur Préféré'\n",
      " \"Fréquence d'Investissement\"]\n"
     ]
    }
   ],
   "source": [
    "print(model.feature_names_in_)\n"
   ]
  },
  {
   "cell_type": "code",
   "execution_count": 496,
   "metadata": {},
   "outputs": [
    {
     "name": "stdout",
     "output_type": "stream",
     "text": [
      "Counter({2: 241, 3: 225, 4: 167, 0: 150, 5: 9, 1: 8})\n"
     ]
    }
   ],
   "source": [
    "from collections import Counter\n",
    "print(Counter(y_train))  # y_train étant la liste des valeurs \"Domaine Recommandé\"\n"
   ]
  },
  {
   "cell_type": "code",
   "execution_count": 497,
   "metadata": {},
   "outputs": [
    {
     "name": "stdout",
     "output_type": "stream",
     "text": [
      "Entrée: [0, 1, 25, 30000, 2, 3, 1, 0, 2] -> Prédiction: 5\n",
      "Entrée: [1, 2, 45, 100000, 5, 4, 2, 1, 5] -> Prédiction: 5\n",
      "Entrée: [1, 3, 30, 70000, 1, 1, 3, 2, 1] -> Prédiction: 5\n"
     ]
    }
   ],
   "source": [
    "import pickle\n",
    "\n",
    "with open(\"lsi2.pkl\", \"rb\") as f:\n",
    "    model = pickle.load(f)\n",
    "\n",
    "# Liste de différentes entrées à tester\n",
    "test_inputs = [\n",
    "    [0, 1, 25, 30000, 2, 3, 1, 0, 2],  # Entrée 1 : autre profil\n",
    "    [1, 2, 45, 100000, 5, 4, 2, 1, 5],  # Entrée 2 : profil plus risqué\n",
    "    [1, 3, 30, 70000, 1, 1, 3, 2, 1],   # Entrée 3 : investisseur conservateur\n",
    "]\n",
    "\n",
    "for input_data in test_inputs:\n",
    "    prediction = model.predict([input_data])[0]\n",
    "    print(f\"Entrée: {input_data} -> Prédiction: {prediction}\")\n"
   ]
  },
  {
   "cell_type": "code",
   "execution_count": 499,
   "metadata": {},
   "outputs": [
    {
     "name": "stdout",
     "output_type": "stream",
     "text": [
      "Domaine Recommandé\n",
      "2    241\n",
      "3    225\n",
      "4    167\n",
      "0    150\n",
      "5      9\n",
      "1      8\n",
      "Name: count, dtype: int64\n"
     ]
    }
   ],
   "source": [
    "print(y_train.value_counts())\n"
   ]
  }
 ],
 "metadata": {
  "kernelspec": {
   "display_name": "Python 3",
   "language": "python",
   "name": "python3"
  },
  "language_info": {
   "codemirror_mode": {
    "name": "ipython",
    "version": 3
   },
   "file_extension": ".py",
   "mimetype": "text/x-python",
   "name": "python",
   "nbconvert_exporter": "python",
   "pygments_lexer": "ipython3",
   "version": "3.12.2"
  }
 },
 "nbformat": 4,
 "nbformat_minor": 2
}
