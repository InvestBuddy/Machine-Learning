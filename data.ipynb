{
 "cells": [
  {
   "cell_type": "code",
   "execution_count": 2,
   "metadata": {},
   "outputs": [
    {
     "name": "stdout",
     "output_type": "stream",
     "text": [
      "Aperçu des premières lignes du dataset :\n",
      "                             Nom  Genre        Ville  Âge    Revenu  \\\n",
      "0  Constance Olivier Le Lemaître  Femme        Paris   48  91061.68   \n",
      "1                    Adèle Duval  Homme  Montpellier   60  95493.18   \n",
      "2        Simone Masson de Collin  Femme         Nice   40  84344.87   \n",
      "3          Gabrielle Pichon-Paul  Femme         Lyon   44  59332.79   \n",
      "4              Martin Le Chauvin  Femme       Nantes   40  75818.07   \n",
      "\n",
      "  Tolérance au Risque   Historique d'Investissement   Objectif Financier  \\\n",
      "0               Élevé          Actions, Obligations             Retraite   \n",
      "1               Moyen              ETF, Fundraising  Épargne de sécurité   \n",
      "2               Élevé       Obligations, Immobilier             Retraite   \n",
      "3               Moyen          Actions, Obligations             Retraite   \n",
      "4               Élevé  Fundraising, ETF, Immobilier     Achat immobilier   \n",
      "\n",
      "  Secteur Préféré Fréquence d'Investissement Domaine Recommandé  \n",
      "0           Santé                    Mensuel            Actions  \n",
      "1       Industrie                Trimestriel        Obligations  \n",
      "2         Finance                    Mensuel            Actions  \n",
      "3      Immobilier                Trimestriel         Immobilier  \n",
      "4           Santé                Trimestriel                ETF  \n"
     ]
    }
   ],
   "source": [
    "import pandas as pd\n",
    "from sklearn.model_selection import train_test_split\n",
    "from sklearn.preprocessing import LabelEncoder\n",
    "from sklearn.ensemble import RandomForestClassifier\n",
    "from sklearn.metrics import classification_report, accuracy_score\n",
    "\n",
    "# Chargement des données\n",
    "\n",
    "file_path = 'C:/Users/benab/OneDrive/Bureau/ML-JEE/enhanced_investment_data.csv'\n",
    "data = pd.read_csv(file_path)\n",
    "\n",
    "# Afficher un aperçu des données\n",
    "print(\"Aperçu des premières lignes du dataset :\")\n",
    "print(data.head())"
   ]
  },
  {
   "cell_type": "code",
   "execution_count": 3,
   "metadata": {},
   "outputs": [
    {
     "name": "stdout",
     "output_type": "stream",
     "text": [
      "\n",
      "Informations générales sur le dataset :\n",
      "<class 'pandas.core.frame.DataFrame'>\n",
      "RangeIndex: 1000 entries, 0 to 999\n",
      "Data columns (total 11 columns):\n",
      " #   Column                       Non-Null Count  Dtype  \n",
      "---  ------                       --------------  -----  \n",
      " 0   Nom                          1000 non-null   object \n",
      " 1   Genre                        1000 non-null   object \n",
      " 2   Ville                        1000 non-null   object \n",
      " 3   Âge                          1000 non-null   int64  \n",
      " 4   Revenu                       1000 non-null   float64\n",
      " 5   Tolérance au Risque          1000 non-null   object \n",
      " 6   Historique d'Investissement  1000 non-null   object \n",
      " 7   Objectif Financier           1000 non-null   object \n",
      " 8   Secteur Préféré              1000 non-null   object \n",
      " 9   Fréquence d'Investissement   1000 non-null   object \n",
      " 10  Domaine Recommandé           1000 non-null   object \n",
      "dtypes: float64(1), int64(1), object(9)\n",
      "memory usage: 86.1+ KB\n",
      "None\n"
     ]
    }
   ],
   "source": [
    "# 1. Vérification des informations de base sur le dataset\n",
    "print(\"\\nInformations générales sur le dataset :\")\n",
    "print(data.info())"
   ]
  },
  {
   "cell_type": "code",
   "execution_count": 4,
   "metadata": {},
   "outputs": [
    {
     "name": "stdout",
     "output_type": "stream",
     "text": [
      "\n",
      "Valeurs manquantes par colonne :\n",
      "Nom                            0\n",
      "Genre                          0\n",
      "Ville                          0\n",
      "Âge                            0\n",
      "Revenu                         0\n",
      "Tolérance au Risque            0\n",
      "Historique d'Investissement    0\n",
      "Objectif Financier             0\n",
      "Secteur Préféré                0\n",
      "Fréquence d'Investissement     0\n",
      "Domaine Recommandé             0\n",
      "dtype: int64\n"
     ]
    }
   ],
   "source": [
    "# 2. Vérification des valeurs manquantes\n",
    "print(\"\\nValeurs manquantes par colonne :\")\n",
    "print(data.isnull().sum())"
   ]
  },
  {
   "cell_type": "code",
   "execution_count": 5,
   "metadata": {},
   "outputs": [
    {
     "name": "stdout",
     "output_type": "stream",
     "text": [
      "\n",
      "Nombre de doublons avant suppression : 0\n",
      "Nombre de doublons après suppression : 0\n"
     ]
    }
   ],
   "source": [
    "# 3. Suppression des doublons\n",
    "print(\"\\nNombre de doublons avant suppression :\", data.duplicated().sum())\n",
    "data = data.drop_duplicates()\n",
    "print(\"Nombre de doublons après suppression :\", data.duplicated().sum())"
   ]
  },
  {
   "cell_type": "code",
   "execution_count": 6,
   "metadata": {},
   "outputs": [],
   "source": [
    "# 4. Nettoyage des chaînes de caractères (suppression des espaces inutiles, mise en minuscule)\n",
    "def clean_text_columns(df, columns):\n",
    "    for col in columns:\n",
    "        df[col] = df[col].str.strip().str.lower()\n",
    "    return df\n",
    "\n",
    "text_columns = ['Nom', 'Genre', 'Ville', 'Tolérance au Risque', 'Historique d\\'Investissement',\n",
    "                 'Objectif Financier', 'Secteur Préféré', 'Fréquence d\\'Investissement', 'Domaine Recommandé']\n",
    "data = clean_text_columns(data, text_columns)"
   ]
  },
  {
   "cell_type": "code",
   "execution_count": 7,
   "metadata": {},
   "outputs": [],
   "source": [
    "# 5. Harmonisation des genres\n",
    "data['Genre'] = data['Genre'].replace({'homme': 'Homme', 'femme': 'Femme'})"
   ]
  },
  {
   "cell_type": "code",
   "execution_count": 8,
   "metadata": {},
   "outputs": [
    {
     "name": "stdout",
     "output_type": "stream",
     "text": [
      "\n",
      "Catégories uniques pour Genre :\n",
      "['Femme' 'Homme']\n"
     ]
    }
   ],
   "source": [
    "# 6. Affichage des catégories uniques dans certaines colonnes pour vérification\n",
    "print(\"\\nCatégories uniques pour Genre :\")\n",
    "print(data['Genre'].unique())"
   ]
  },
  {
   "cell_type": "code",
   "execution_count": 9,
   "metadata": {},
   "outputs": [
    {
     "name": "stdout",
     "output_type": "stream",
     "text": [
      "\n",
      "Catégories uniques pour Tolérance au Risque :\n",
      "['élevé' 'moyen' 'faible']\n"
     ]
    }
   ],
   "source": [
    "print(\"\\nCatégories uniques pour Tolérance au Risque :\")\n",
    "print(data['Tolérance au Risque'].unique())"
   ]
  },
  {
   "cell_type": "code",
   "execution_count": 10,
   "metadata": {},
   "outputs": [
    {
     "name": "stdout",
     "output_type": "stream",
     "text": [
      "\n",
      "Catégories uniques pour Fréquence d'Investissement :\n",
      "['mensuel' 'trimestriel' 'annuel']\n"
     ]
    }
   ],
   "source": [
    "print(\"\\nCatégories uniques pour Fréquence d'Investissement :\")\n",
    "print(data['Fréquence d\\'Investissement'].unique())"
   ]
  },
  {
   "cell_type": "code",
   "execution_count": 11,
   "metadata": {},
   "outputs": [],
   "source": [
    "# 7. Encodage optionnel (si nécessaire pour le Machine Learning)\n",
    "from sklearn.preprocessing import LabelEncoder\n",
    "\n",
    "encoder = LabelEncoder()\n",
    "encoded_columns = ['Genre', 'Tolérance au Risque', 'Objectif Financier', 'Secteur Préféré', 'Fréquence d\\'Investissement', 'Domaine Recommandé']\n",
    "for col in encoded_columns:\n",
    "    data[col] = encoder.fit_transform(data[col])"
   ]
  },
  {
   "cell_type": "code",
   "execution_count": 12,
   "metadata": {},
   "outputs": [
    {
     "name": "stdout",
     "output_type": "stream",
     "text": [
      "\n",
      "Résumé statistique des colonnes numériques :\n",
      "             Genre          Âge         Revenu  Tolérance au Risque  \\\n",
      "count  1000.000000  1000.000000    1000.000000          1000.000000   \n",
      "mean      0.487000    42.039000   61025.692030             1.323000   \n",
      "std       0.500081    11.038357   28184.942734             0.488784   \n",
      "min       0.000000    25.000000    5843.110000             0.000000   \n",
      "25%       0.000000    34.000000   40586.727500             1.000000   \n",
      "50%       0.000000    42.000000   56614.175000             1.000000   \n",
      "75%       1.000000    50.000000   76320.660000             2.000000   \n",
      "max       1.000000    70.000000  164195.870000             2.000000   \n",
      "\n",
      "       Objectif Financier  Secteur Préféré  Fréquence d'Investissement  \\\n",
      "count         1000.000000       1000.00000                 1000.000000   \n",
      "mean             2.619000          3.38900                    1.716000   \n",
      "std              1.760949          1.80913                    0.582824   \n",
      "min              0.000000          0.00000                    0.000000   \n",
      "25%              2.000000          2.00000                    2.000000   \n",
      "50%              2.000000          3.00000                    2.000000   \n",
      "75%              4.000000          5.00000                    2.000000   \n",
      "max              6.000000          6.00000                    2.000000   \n",
      "\n",
      "       Domaine Recommandé  \n",
      "count         1000.000000  \n",
      "mean             2.368000  \n",
      "std              1.351445  \n",
      "min              0.000000  \n",
      "25%              2.000000  \n",
      "50%              3.000000  \n",
      "75%              3.000000  \n",
      "max              5.000000  \n"
     ]
    }
   ],
   "source": [
    "# 8. Résumé statistique des colonnes numériques\n",
    "print(\"\\nRésumé statistique des colonnes numériques :\")\n",
    "print(data.describe())"
   ]
  },
  {
   "cell_type": "code",
   "execution_count": 13,
   "metadata": {},
   "outputs": [
    {
     "name": "stdout",
     "output_type": "stream",
     "text": [
      "\n",
      "Informations générales sur le dataset :\n",
      "<class 'pandas.core.frame.DataFrame'>\n",
      "RangeIndex: 1000 entries, 0 to 999\n",
      "Data columns (total 11 columns):\n",
      " #   Column                       Non-Null Count  Dtype  \n",
      "---  ------                       --------------  -----  \n",
      " 0   Nom                          1000 non-null   object \n",
      " 1   Genre                        1000 non-null   int32  \n",
      " 2   Ville                        1000 non-null   object \n",
      " 3   Âge                          1000 non-null   int64  \n",
      " 4   Revenu                       1000 non-null   float64\n",
      " 5   Tolérance au Risque          1000 non-null   int32  \n",
      " 6   Historique d'Investissement  1000 non-null   object \n",
      " 7   Objectif Financier           1000 non-null   int32  \n",
      " 8   Secteur Préféré              1000 non-null   int32  \n",
      " 9   Fréquence d'Investissement   1000 non-null   int32  \n",
      " 10  Domaine Recommandé           1000 non-null   int32  \n",
      "dtypes: float64(1), int32(6), int64(1), object(3)\n",
      "memory usage: 62.6+ KB\n",
      "None\n"
     ]
    }
   ],
   "source": [
    "# 1. Vérification des informations de base sur le dataset\n",
    "print(\"\\nInformations générales sur le dataset :\")\n",
    "print(data.info())"
   ]
  },
  {
   "cell_type": "code",
   "execution_count": 14,
   "metadata": {},
   "outputs": [],
   "source": [
    "# 1. Suppression de la colonne \"Nom\" (non utile pour le ML)\n",
    "data = data.drop(columns=['Nom'])\n",
    "\n",
    "# 2. Encodage des villes (Label Encoding)\n",
    "data['Ville'] = encoder.fit_transform(data['Ville'])"
   ]
  },
  {
   "cell_type": "code",
   "execution_count": 15,
   "metadata": {},
   "outputs": [],
   "source": [
    "# 3. One-Hot Encoding pour \"Historique d'Investissement\"\n",
    "# On sépare les différentes valeurs dans chaque ligne (séparées par des virgules) pour créer des colonnes binaires\n",
    "investment_types = set()\n",
    "data['Historique d\\'Investissement'].apply(lambda x: investment_types.update(x.split(',')))\n",
    "\n",
    "# Créer des colonnes binaires pour chaque type d'investissement\n",
    "for investment_type in investment_types:\n",
    "    investment_type = investment_type.strip().lower()  # Nettoyage des espaces et minuscule\n",
    "    data[f\"invest_{investment_type}\"] = data['Historique d\\'Investissement'].apply(lambda x: 1 if investment_type in x.lower() else 0)\n",
    "\n",
    "# Supprimer la colonne \"Historique d'Investissement\" une fois encodée\n",
    "data = data.drop(columns=['Historique d\\'Investissement'])\n"
   ]
  },
  {
   "cell_type": "code",
   "execution_count": 16,
   "metadata": {},
   "outputs": [
    {
     "name": "stdout",
     "output_type": "stream",
     "text": [
      "\n",
      "Informations générales sur le dataset :\n",
      "<class 'pandas.core.frame.DataFrame'>\n",
      "RangeIndex: 1000 entries, 0 to 999\n",
      "Data columns (total 18 columns):\n",
      " #   Column                                         Non-Null Count  Dtype  \n",
      "---  ------                                         --------------  -----  \n",
      " 0   Genre                                          1000 non-null   int32  \n",
      " 1   Ville                                          1000 non-null   int32  \n",
      " 2   Âge                                            1000 non-null   int64  \n",
      " 3   Revenu                                         1000 non-null   float64\n",
      " 4   Tolérance au Risque                            1000 non-null   int32  \n",
      " 5   Objectif Financier                             1000 non-null   int32  \n",
      " 6   Secteur Préféré                                1000 non-null   int32  \n",
      " 7   Fréquence d'Investissement                     1000 non-null   int32  \n",
      " 8   Domaine Recommandé                             1000 non-null   int32  \n",
      " 9   invest_fundraising                             1000 non-null   int64  \n",
      " 10  invest_etf                                     1000 non-null   int64  \n",
      " 11  invest_actions                                 1000 non-null   int64  \n",
      " 12  invest_immobilier                              1000 non-null   int64  \n",
      " 13  invest_obligations                             1000 non-null   int64  \n",
      " 14  invest_investissement socialement responsable  1000 non-null   int64  \n",
      " 15  invest_cryptomonnaies                          1000 non-null   int64  \n",
      " 16  invest_startups                                1000 non-null   int64  \n",
      " 17  invest_matières premières                      1000 non-null   int64  \n",
      "dtypes: float64(1), int32(7), int64(10)\n",
      "memory usage: 113.4 KB\n",
      "None\n"
     ]
    }
   ],
   "source": [
    "# 1. Vérification des informations de base sur le dataset\n",
    "print(\"\\nInformations générales sur le dataset :\")\n",
    "print(data.info())"
   ]
  },
  {
   "cell_type": "code",
   "execution_count": 17,
   "metadata": {},
   "outputs": [
    {
     "name": "stdout",
     "output_type": "stream",
     "text": [
      "Mapping des valeurs encodées : {0: 0, 1: 1, 2: 2, 3: 3, 4: 4, 5: 5}\n"
     ]
    }
   ],
   "source": [
    "# Encodage de la colonne cible avec LabelEncoder\n",
    "from sklearn.preprocessing import LabelEncoder\n",
    "\n",
    "encoder = LabelEncoder()\n",
    "data['Domaine Recommandé'] = encoder.fit_transform(data['Domaine Recommandé'])\n",
    "\n",
    "# Affichage des correspondances (catégorie -> valeur numérique)\n",
    "label_mapping = dict(zip(encoder.classes_, encoder.transform(encoder.classes_)))\n",
    "print(\"Mapping des valeurs encodées :\", label_mapping)\n"
   ]
  },
  {
   "cell_type": "code",
   "execution_count": 18,
   "metadata": {},
   "outputs": [],
   "source": [
    "# 9. Sauvegarde du dataset nettoyé\n",
    "#cleaned_file_path = \"newdata1.csv\"\n",
    "#data.to_csv(cleaned_file_path, index=False)\n",
    "#print(f\"\\nDataset nettoyé sauvegardé sous : {cleaned_file_path}\")"
   ]
  },
  {
   "cell_type": "code",
   "execution_count": 19,
   "metadata": {},
   "outputs": [
    {
     "name": "stdout",
     "output_type": "stream",
     "text": [
      "\n",
      "Mappings des colonnes encodées :\n",
      "\n",
      "Aperçu des premières lignes des données encodées :\n",
      "   Genre  Ville  Âge    Revenu  Tolérance au Risque  Objectif Financier  \\\n",
      "0      0      7   48  91061.68                    2                   2   \n",
      "1      1      4   60  95493.18                    1                   6   \n",
      "2      0      6   40  84344.87                    2                   2   \n",
      "3      0      2   44  59332.79                    1                   2   \n",
      "4      0      5   40  75818.07                    2                   0   \n",
      "\n",
      "   Secteur Préféré  Fréquence d'Investissement  Domaine Recommandé  \\\n",
      "0                5                           1                   0   \n",
      "1                4                           2                   4   \n",
      "2                2                           1                   0   \n",
      "3                3                           2                   3   \n",
      "4                5                           2                   2   \n",
      "\n",
      "   invest_fundraising  invest_etf  invest_actions  invest_immobilier  \\\n",
      "0                   0           0               1                  0   \n",
      "1                   1           1               0                  0   \n",
      "2                   0           0               0                  1   \n",
      "3                   0           0               1                  0   \n",
      "4                   1           1               0                  1   \n",
      "\n",
      "   invest_obligations  invest_investissement socialement responsable  \\\n",
      "0                   1                                              0   \n",
      "1                   0                                              0   \n",
      "2                   1                                              0   \n",
      "3                   1                                              0   \n",
      "4                   0                                              0   \n",
      "\n",
      "   invest_cryptomonnaies  invest_startups  invest_matières premières  \n",
      "0                      0                0                          0  \n",
      "1                      0                0                          0  \n",
      "2                      0                0                          0  \n",
      "3                      0                0                          0  \n",
      "4                      0                0                          0  \n"
     ]
    }
   ],
   "source": [
    "# Trouver les colonnes de type 'object'\n",
    "object_columns = data.select_dtypes(include=['object']).columns\n",
    "\n",
    "# Initialiser un dictionnaire pour sauvegarder les mappings\n",
    "encoders = {}\n",
    "encoded_data = data.copy()\n",
    "\n",
    "# Encoder chaque colonne de type 'object'\n",
    "for col in object_columns:\n",
    "    encoder = LabelEncoder()\n",
    "    encoded_data[col] = encoder.fit_transform(encoded_data[col])\n",
    "    encoders[col] = dict(zip(encoder.classes_, encoder.transform(encoder.classes_)))  # Sauvegarder le mapping pour chaque colonne\n",
    "\n",
    "# Affichage des encodages réalisés\n",
    "print(\"\\nMappings des colonnes encodées :\")\n",
    "for col, mapping in encoders.items():\n",
    "    print(f\"\\n{col} : {mapping}\")\n",
    "# Aperçu des données encodées\n",
    "print(\"\\nAperçu des premières lignes des données encodées :\")\n",
    "print(encoded_data.head())\n",
    "# Sauvegarder le dataset encodé si besoin\n",
    "#encoded_file_path = \"encoded_user_investment_data.csv\"\n",
    "#encoded_data.to_csv(encoded_file_path, index=False)\n",
    "#print(f\"\\nDataset encodé sauvegardé sous : {encoded_file_path}\")\n"
   ]
  },
  {
   "cell_type": "code",
   "execution_count": 20,
   "metadata": {},
   "outputs": [
    {
     "name": "stdout",
     "output_type": "stream",
     "text": [
      "\n",
      "Informations générales sur le dataset :\n",
      "<class 'pandas.core.frame.DataFrame'>\n",
      "RangeIndex: 1000 entries, 0 to 999\n",
      "Data columns (total 18 columns):\n",
      " #   Column                                         Non-Null Count  Dtype  \n",
      "---  ------                                         --------------  -----  \n",
      " 0   Genre                                          1000 non-null   int32  \n",
      " 1   Ville                                          1000 non-null   int32  \n",
      " 2   Âge                                            1000 non-null   int64  \n",
      " 3   Revenu                                         1000 non-null   float64\n",
      " 4   Tolérance au Risque                            1000 non-null   int32  \n",
      " 5   Objectif Financier                             1000 non-null   int32  \n",
      " 6   Secteur Préféré                                1000 non-null   int32  \n",
      " 7   Fréquence d'Investissement                     1000 non-null   int32  \n",
      " 8   Domaine Recommandé                             1000 non-null   int64  \n",
      " 9   invest_fundraising                             1000 non-null   int64  \n",
      " 10  invest_etf                                     1000 non-null   int64  \n",
      " 11  invest_actions                                 1000 non-null   int64  \n",
      " 12  invest_immobilier                              1000 non-null   int64  \n",
      " 13  invest_obligations                             1000 non-null   int64  \n",
      " 14  invest_investissement socialement responsable  1000 non-null   int64  \n",
      " 15  invest_cryptomonnaies                          1000 non-null   int64  \n",
      " 16  invest_startups                                1000 non-null   int64  \n",
      " 17  invest_matières premières                      1000 non-null   int64  \n",
      "dtypes: float64(1), int32(6), int64(11)\n",
      "memory usage: 117.3 KB\n",
      "None\n"
     ]
    }
   ],
   "source": [
    "# 1. Vérification des informations de base sur le dataset\n",
    "print(\"\\nInformations générales sur le dataset :\")\n",
    "print(data.info())"
   ]
  },
  {
   "cell_type": "code",
   "execution_count": 21,
   "metadata": {},
   "outputs": [
    {
     "name": "stdout",
     "output_type": "stream",
     "text": [
      "Précision du modèle Random Forest : 81.50%\n"
     ]
    }
   ],
   "source": [
    "from sklearn.model_selection import train_test_split\n",
    "from sklearn.ensemble import RandomForestClassifier\n",
    "from sklearn.metrics import accuracy_score\n",
    "\n",
    "# Séparation des variables explicatives (X) et cible (y)\n",
    "X = encoded_data.drop(columns=['Domaine Recommandé'])  # Features\n",
    "y = encoded_data['Domaine Recommandé']  # Target\n",
    "\n",
    "# Division en données d'entraînement et de test\n",
    "X_train, X_test, y_train, y_test = train_test_split(X, y, test_size=0.2, random_state=42)\n",
    "\n",
    "# Initialisation du modèle Random Forest\n",
    "rf_model = RandomForestClassifier(n_estimators=100, random_state=42)\n",
    "rf_model.fit(X_train, y_train)\n",
    "\n",
    "# Prédictions et évaluation\n",
    "y_pred = rf_model.predict(X_test)\n",
    "accuracy = accuracy_score(y_test, y_pred)\n",
    "print(f\"Précision du modèle Random Forest : {accuracy * 100:.2f}%\")\n"
   ]
  },
  {
   "cell_type": "code",
   "execution_count": 22,
   "metadata": {},
   "outputs": [
    {
     "name": "stdout",
     "output_type": "stream",
     "text": [
      "\n",
      "**Résultats des modèles sans normalisation/standardisation :**\n",
      "Random Forest - Précision : 81.50%\n"
     ]
    },
    {
     "name": "stderr",
     "output_type": "stream",
     "text": [
      "c:\\Python312\\Lib\\site-packages\\xgboost\\core.py:158: UserWarning: [12:16:02] WARNING: C:\\buildkite-agent\\builds\\buildkite-windows-cpu-autoscaling-group-i-0c55ff5f71b100e98-1\\xgboost\\xgboost-ci-windows\\src\\learner.cc:740: \n",
      "Parameters: { \"use_label_encoder\" } are not used.\n",
      "\n",
      "  warnings.warn(smsg, UserWarning)\n"
     ]
    },
    {
     "name": "stdout",
     "output_type": "stream",
     "text": [
      "XGBoost - Précision : 83.00%\n",
      "Decision Tree - Précision : 80.00%\n"
     ]
    }
   ],
   "source": [
    "import pandas as pd\n",
    "from sklearn.model_selection import train_test_split\n",
    "from sklearn.metrics import accuracy_score\n",
    "from sklearn.ensemble import RandomForestClassifier\n",
    "from xgboost import XGBClassifier\n",
    "from sklearn.tree import DecisionTreeClassifier\n",
    "from sklearn.linear_model import LogisticRegression\n",
    "from sklearn.neighbors import KNeighborsClassifier\n",
    "from sklearn.svm import SVC\n",
    "from sklearn.preprocessing import StandardScaler\n",
    "import warnings\n",
    "\n",
    "\n",
    "# Séparation des variables explicatives (X) et de la cible (y)\n",
    "X = data.drop(columns=['Domaine Recommandé'])  # Features\n",
    "y = data['Domaine Recommandé']  # Target\n",
    "\n",
    "# Division en ensemble d'entraînement et de test\n",
    "X_train, X_test, y_train, y_test = train_test_split(X, y, test_size=0.2, random_state=42)\n",
    "# Modèles qui n'ont pas besoin de standardisation/normalisation\n",
    "models_without_scaling = {\n",
    "    \"Random Forest\": RandomForestClassifier(n_estimators=100, random_state=42),\n",
    "    \"XGBoost\": XGBClassifier(use_label_encoder=False, eval_metric='mlogloss', random_state=42),\n",
    "    \"Decision Tree\": DecisionTreeClassifier(random_state=42)\n",
    "}\n",
    "\n",
    "print(\"\\n**Résultats des modèles sans normalisation/standardisation :**\")\n",
    "for model_name, model in models_without_scaling.items():\n",
    "    # Entraînement\n",
    "    model.fit(X_train, y_train)\n",
    "    y_pred = model.predict(X_test)\n",
    "    accuracy = accuracy_score(y_test, y_pred)\n",
    "    print(f\"{model_name} - Précision : {accuracy * 100:.2f}%\")"
   ]
  },
  {
   "cell_type": "code",
   "execution_count": 23,
   "metadata": {},
   "outputs": [
    {
     "name": "stdout",
     "output_type": "stream",
     "text": [
      "\n",
      "**Résultats des modèles de Boosting :**\n"
     ]
    },
    {
     "name": "stderr",
     "output_type": "stream",
     "text": [
      "c:\\Python312\\Lib\\site-packages\\xgboost\\core.py:158: UserWarning: [12:16:03] WARNING: C:\\buildkite-agent\\builds\\buildkite-windows-cpu-autoscaling-group-i-0c55ff5f71b100e98-1\\xgboost\\xgboost-ci-windows\\src\\learner.cc:740: \n",
      "Parameters: { \"use_label_encoder\" } are not used.\n",
      "\n",
      "  warnings.warn(smsg, UserWarning)\n"
     ]
    },
    {
     "name": "stdout",
     "output_type": "stream",
     "text": [
      "XGBoost - Précision : 83.00%\n"
     ]
    },
    {
     "name": "stderr",
     "output_type": "stream",
     "text": [
      "c:\\Python312\\Lib\\site-packages\\sklearn\\ensemble\\_weight_boosting.py:527: FutureWarning: The SAMME.R algorithm (the default) is deprecated and will be removed in 1.6. Use the SAMME algorithm to circumvent this warning.\n",
      "  warnings.warn(\n"
     ]
    },
    {
     "name": "stdout",
     "output_type": "stream",
     "text": [
      "AdaBoost - Précision : 66.00%\n",
      "[LightGBM] [Warning] Found whitespace in feature_names, replace with underlines\n",
      "[LightGBM] [Info] Auto-choosing row-wise multi-threading, the overhead of testing was 0.000181 seconds.\n",
      "You can set `force_row_wise=true` to remove the overhead.\n",
      "And if memory is not enough, you can set `force_col_wise=true`.\n",
      "[LightGBM] [Info] Total Bins 350\n",
      "[LightGBM] [Info] Number of data points in the train set: 800, number of used features: 17\n",
      "[LightGBM] [Info] Start training from score -1.673976\n",
      "[LightGBM] [Info] Start training from score -4.605170\n",
      "[LightGBM] [Info] Start training from score -1.199815\n",
      "[LightGBM] [Info] Start training from score -1.268511\n",
      "[LightGBM] [Info] Start training from score -1.566618\n",
      "[LightGBM] [Info] Start training from score -4.487387\n",
      "[LightGBM] [Warning] No further splits with positive gain, best gain: -inf\n",
      "[LightGBM] [Warning] No further splits with positive gain, best gain: -inf\n",
      "[LightGBM] [Warning] No further splits with positive gain, best gain: -inf\n",
      "[LightGBM] [Warning] No further splits with positive gain, best gain: -inf\n",
      "[LightGBM] [Warning] No further splits with positive gain, best gain: -inf\n",
      "[LightGBM] [Warning] No further splits with positive gain, best gain: -inf\n",
      "[LightGBM] [Warning] No further splits with positive gain, best gain: -inf\n",
      "[LightGBM] [Warning] No further splits with positive gain, best gain: -inf\n",
      "[LightGBM] [Warning] No further splits with positive gain, best gain: -inf\n",
      "[LightGBM] [Warning] No further splits with positive gain, best gain: -inf\n",
      "[LightGBM] [Warning] No further splits with positive gain, best gain: -inf\n",
      "[LightGBM] [Warning] No further splits with positive gain, best gain: -inf\n",
      "[LightGBM] [Warning] No further splits with positive gain, best gain: -inf\n",
      "[LightGBM] [Warning] No further splits with positive gain, best gain: -inf\n",
      "[LightGBM] [Warning] No further splits with positive gain, best gain: -inf\n",
      "[LightGBM] [Warning] No further splits with positive gain, best gain: -inf\n",
      "[LightGBM] [Warning] No further splits with positive gain, best gain: -inf\n",
      "[LightGBM] [Warning] No further splits with positive gain, best gain: -inf\n",
      "[LightGBM] [Warning] No further splits with positive gain, best gain: -inf\n",
      "[LightGBM] [Warning] No further splits with positive gain, best gain: -inf\n",
      "[LightGBM] [Warning] No further splits with positive gain, best gain: -inf\n",
      "[LightGBM] [Warning] No further splits with positive gain, best gain: -inf\n",
      "[LightGBM] [Warning] No further splits with positive gain, best gain: -inf\n",
      "[LightGBM] [Warning] No further splits with positive gain, best gain: -inf\n",
      "[LightGBM] [Warning] No further splits with positive gain, best gain: -inf\n",
      "[LightGBM] [Warning] No further splits with positive gain, best gain: -inf\n",
      "[LightGBM] [Warning] No further splits with positive gain, best gain: -inf\n",
      "[LightGBM] [Warning] No further splits with positive gain, best gain: -inf\n",
      "[LightGBM] [Warning] No further splits with positive gain, best gain: -inf\n",
      "[LightGBM] [Warning] No further splits with positive gain, best gain: -inf\n",
      "[LightGBM] [Warning] No further splits with positive gain, best gain: -inf\n",
      "[LightGBM] [Warning] No further splits with positive gain, best gain: -inf\n",
      "[LightGBM] [Warning] No further splits with positive gain, best gain: -inf\n",
      "[LightGBM] [Warning] No further splits with positive gain, best gain: -inf\n",
      "[LightGBM] [Warning] No further splits with positive gain, best gain: -inf\n",
      "[LightGBM] [Warning] No further splits with positive gain, best gain: -inf\n",
      "[LightGBM] [Warning] No further splits with positive gain, best gain: -inf\n",
      "[LightGBM] [Warning] No further splits with positive gain, best gain: -inf\n",
      "[LightGBM] [Warning] No further splits with positive gain, best gain: -inf\n",
      "[LightGBM] [Warning] No further splits with positive gain, best gain: -inf\n",
      "[LightGBM] [Warning] No further splits with positive gain, best gain: -inf\n",
      "[LightGBM] [Warning] No further splits with positive gain, best gain: -inf\n",
      "[LightGBM] [Warning] No further splits with positive gain, best gain: -inf\n",
      "[LightGBM] [Warning] No further splits with positive gain, best gain: -inf\n",
      "[LightGBM] [Warning] No further splits with positive gain, best gain: -inf\n",
      "[LightGBM] [Warning] No further splits with positive gain, best gain: -inf\n",
      "[LightGBM] [Warning] No further splits with positive gain, best gain: -inf\n",
      "[LightGBM] [Warning] No further splits with positive gain, best gain: -inf\n",
      "[LightGBM] [Warning] No further splits with positive gain, best gain: -inf\n",
      "[LightGBM] [Warning] No further splits with positive gain, best gain: -inf\n",
      "[LightGBM] [Warning] No further splits with positive gain, best gain: -inf\n",
      "[LightGBM] [Warning] No further splits with positive gain, best gain: -inf\n",
      "[LightGBM] [Warning] No further splits with positive gain, best gain: -inf\n",
      "[LightGBM] [Warning] No further splits with positive gain, best gain: -inf\n",
      "[LightGBM] [Warning] No further splits with positive gain, best gain: -inf\n",
      "[LightGBM] [Warning] No further splits with positive gain, best gain: -inf\n",
      "[LightGBM] [Warning] No further splits with positive gain, best gain: -inf\n",
      "[LightGBM] [Warning] No further splits with positive gain, best gain: -inf\n",
      "[LightGBM] [Warning] No further splits with positive gain, best gain: -inf\n",
      "[LightGBM] [Warning] No further splits with positive gain, best gain: -inf\n",
      "[LightGBM] [Warning] No further splits with positive gain, best gain: -inf\n",
      "[LightGBM] [Warning] No further splits with positive gain, best gain: -inf\n",
      "[LightGBM] [Warning] No further splits with positive gain, best gain: -inf\n",
      "[LightGBM] [Warning] No further splits with positive gain, best gain: -inf\n",
      "[LightGBM] [Warning] No further splits with positive gain, best gain: -inf\n",
      "[LightGBM] [Warning] No further splits with positive gain, best gain: -inf\n",
      "[LightGBM] [Warning] No further splits with positive gain, best gain: -inf\n",
      "[LightGBM] [Warning] No further splits with positive gain, best gain: -inf\n",
      "[LightGBM] [Warning] No further splits with positive gain, best gain: -inf\n",
      "[LightGBM] [Warning] No further splits with positive gain, best gain: -inf\n",
      "[LightGBM] [Warning] No further splits with positive gain, best gain: -inf\n",
      "[LightGBM] [Warning] No further splits with positive gain, best gain: -inf\n",
      "[LightGBM] [Warning] No further splits with positive gain, best gain: -inf\n",
      "[LightGBM] [Warning] No further splits with positive gain, best gain: -inf\n",
      "[LightGBM] [Warning] No further splits with positive gain, best gain: -inf\n",
      "[LightGBM] [Warning] No further splits with positive gain, best gain: -inf\n",
      "[LightGBM] [Warning] No further splits with positive gain, best gain: -inf\n",
      "[LightGBM] [Warning] No further splits with positive gain, best gain: -inf\n",
      "[LightGBM] [Warning] No further splits with positive gain, best gain: -inf\n",
      "[LightGBM] [Warning] No further splits with positive gain, best gain: -inf\n",
      "[LightGBM] [Warning] No further splits with positive gain, best gain: -inf\n",
      "[LightGBM] [Warning] No further splits with positive gain, best gain: -inf\n",
      "[LightGBM] [Warning] No further splits with positive gain, best gain: -inf\n",
      "[LightGBM] [Warning] No further splits with positive gain, best gain: -inf\n",
      "[LightGBM] [Warning] No further splits with positive gain, best gain: -inf\n",
      "[LightGBM] [Warning] No further splits with positive gain, best gain: -inf\n",
      "[LightGBM] [Warning] No further splits with positive gain, best gain: -inf\n",
      "[LightGBM] [Warning] No further splits with positive gain, best gain: -inf\n",
      "[LightGBM] [Warning] No further splits with positive gain, best gain: -inf\n",
      "[LightGBM] [Warning] No further splits with positive gain, best gain: -inf\n",
      "[LightGBM] [Warning] No further splits with positive gain, best gain: -inf\n",
      "[LightGBM] [Warning] No further splits with positive gain, best gain: -inf\n",
      "[LightGBM] [Warning] No further splits with positive gain, best gain: -inf\n",
      "[LightGBM] [Warning] No further splits with positive gain, best gain: -inf\n",
      "[LightGBM] [Warning] No further splits with positive gain, best gain: -inf\n",
      "[LightGBM] [Warning] No further splits with positive gain, best gain: -inf\n",
      "[LightGBM] [Warning] No further splits with positive gain, best gain: -inf\n",
      "[LightGBM] [Warning] No further splits with positive gain, best gain: -inf\n",
      "[LightGBM] [Warning] No further splits with positive gain, best gain: -inf\n",
      "[LightGBM] [Warning] No further splits with positive gain, best gain: -inf\n",
      "[LightGBM] [Warning] No further splits with positive gain, best gain: -inf\n",
      "[LightGBM] [Warning] No further splits with positive gain, best gain: -inf\n",
      "[LightGBM] [Warning] No further splits with positive gain, best gain: -inf\n",
      "[LightGBM] [Warning] No further splits with positive gain, best gain: -inf\n",
      "[LightGBM] [Warning] No further splits with positive gain, best gain: -inf\n",
      "[LightGBM] [Warning] No further splits with positive gain, best gain: -inf\n",
      "[LightGBM] [Warning] No further splits with positive gain, best gain: -inf\n",
      "[LightGBM] [Warning] No further splits with positive gain, best gain: -inf\n",
      "[LightGBM] [Warning] No further splits with positive gain, best gain: -inf\n",
      "[LightGBM] [Warning] No further splits with positive gain, best gain: -inf\n",
      "[LightGBM] [Warning] No further splits with positive gain, best gain: -inf\n",
      "[LightGBM] [Warning] No further splits with positive gain, best gain: -inf\n",
      "[LightGBM] [Warning] No further splits with positive gain, best gain: -inf\n",
      "[LightGBM] [Warning] No further splits with positive gain, best gain: -inf\n",
      "[LightGBM] [Warning] No further splits with positive gain, best gain: -inf\n",
      "[LightGBM] [Warning] No further splits with positive gain, best gain: -inf\n",
      "[LightGBM] [Warning] No further splits with positive gain, best gain: -inf\n",
      "[LightGBM] [Warning] No further splits with positive gain, best gain: -inf\n",
      "[LightGBM] [Warning] No further splits with positive gain, best gain: -inf\n",
      "[LightGBM] [Warning] No further splits with positive gain, best gain: -inf\n",
      "[LightGBM] [Warning] No further splits with positive gain, best gain: -inf\n",
      "[LightGBM] [Warning] No further splits with positive gain, best gain: -inf\n",
      "[LightGBM] [Warning] No further splits with positive gain, best gain: -inf\n",
      "[LightGBM] [Warning] No further splits with positive gain, best gain: -inf\n",
      "[LightGBM] [Warning] No further splits with positive gain, best gain: -inf\n",
      "[LightGBM] [Warning] No further splits with positive gain, best gain: -inf\n",
      "[LightGBM] [Warning] No further splits with positive gain, best gain: -inf\n",
      "[LightGBM] [Warning] No further splits with positive gain, best gain: -inf\n",
      "[LightGBM] [Warning] No further splits with positive gain, best gain: -inf\n",
      "[LightGBM] [Warning] No further splits with positive gain, best gain: -inf\n",
      "[LightGBM] [Warning] No further splits with positive gain, best gain: -inf\n",
      "[LightGBM] [Warning] No further splits with positive gain, best gain: -inf\n",
      "[LightGBM] [Warning] No further splits with positive gain, best gain: -inf\n",
      "[LightGBM] [Warning] No further splits with positive gain, best gain: -inf\n",
      "[LightGBM] [Warning] No further splits with positive gain, best gain: -inf\n",
      "[LightGBM] [Warning] No further splits with positive gain, best gain: -inf\n",
      "[LightGBM] [Warning] No further splits with positive gain, best gain: -inf\n",
      "[LightGBM] [Warning] No further splits with positive gain, best gain: -inf\n",
      "[LightGBM] [Warning] No further splits with positive gain, best gain: -inf\n",
      "[LightGBM] [Warning] No further splits with positive gain, best gain: -inf\n",
      "[LightGBM] [Warning] No further splits with positive gain, best gain: -inf\n",
      "[LightGBM] [Warning] No further splits with positive gain, best gain: -inf\n",
      "[LightGBM] [Warning] No further splits with positive gain, best gain: -inf\n",
      "[LightGBM] [Warning] No further splits with positive gain, best gain: -inf\n",
      "[LightGBM] [Warning] No further splits with positive gain, best gain: -inf\n",
      "[LightGBM] [Warning] No further splits with positive gain, best gain: -inf\n",
      "[LightGBM] [Warning] No further splits with positive gain, best gain: -inf\n",
      "[LightGBM] [Warning] No further splits with positive gain, best gain: -inf\n",
      "[LightGBM] [Warning] No further splits with positive gain, best gain: -inf\n",
      "[LightGBM] [Warning] No further splits with positive gain, best gain: -inf\n",
      "[LightGBM] [Warning] No further splits with positive gain, best gain: -inf\n",
      "[LightGBM] [Warning] No further splits with positive gain, best gain: -inf\n",
      "[LightGBM] [Warning] No further splits with positive gain, best gain: -inf\n",
      "[LightGBM] [Warning] No further splits with positive gain, best gain: -inf\n",
      "[LightGBM] [Warning] No further splits with positive gain, best gain: -inf\n",
      "[LightGBM] [Warning] No further splits with positive gain, best gain: -inf\n",
      "[LightGBM] [Warning] No further splits with positive gain, best gain: -inf\n",
      "[LightGBM] [Warning] No further splits with positive gain, best gain: -inf\n",
      "[LightGBM] [Warning] No further splits with positive gain, best gain: -inf\n",
      "[LightGBM] [Warning] No further splits with positive gain, best gain: -inf\n",
      "[LightGBM] [Warning] No further splits with positive gain, best gain: -inf\n",
      "[LightGBM] [Warning] No further splits with positive gain, best gain: -inf\n",
      "[LightGBM] [Warning] No further splits with positive gain, best gain: -inf\n",
      "[LightGBM] [Warning] No further splits with positive gain, best gain: -inf\n",
      "[LightGBM] [Warning] No further splits with positive gain, best gain: -inf\n",
      "[LightGBM] [Warning] No further splits with positive gain, best gain: -inf\n",
      "[LightGBM] [Warning] No further splits with positive gain, best gain: -inf\n",
      "[LightGBM] [Warning] No further splits with positive gain, best gain: -inf\n",
      "[LightGBM] [Warning] No further splits with positive gain, best gain: -inf\n",
      "[LightGBM] [Warning] No further splits with positive gain, best gain: -inf\n",
      "[LightGBM] [Warning] No further splits with positive gain, best gain: -inf\n",
      "[LightGBM] [Warning] No further splits with positive gain, best gain: -inf\n",
      "[LightGBM] [Warning] No further splits with positive gain, best gain: -inf\n",
      "[LightGBM] [Warning] No further splits with positive gain, best gain: -inf\n",
      "[LightGBM] [Warning] No further splits with positive gain, best gain: -inf\n",
      "[LightGBM] [Warning] No further splits with positive gain, best gain: -inf\n",
      "[LightGBM] [Warning] No further splits with positive gain, best gain: -inf\n",
      "[LightGBM] [Warning] No further splits with positive gain, best gain: -inf\n",
      "[LightGBM] [Warning] No further splits with positive gain, best gain: -inf\n",
      "[LightGBM] [Warning] No further splits with positive gain, best gain: -inf\n",
      "[LightGBM] [Warning] No further splits with positive gain, best gain: -inf\n",
      "[LightGBM] [Warning] No further splits with positive gain, best gain: -inf\n",
      "[LightGBM] [Warning] No further splits with positive gain, best gain: -inf\n",
      "[LightGBM] [Warning] No further splits with positive gain, best gain: -inf\n",
      "[LightGBM] [Warning] No further splits with positive gain, best gain: -inf\n",
      "[LightGBM] [Warning] No further splits with positive gain, best gain: -inf\n",
      "[LightGBM] [Warning] No further splits with positive gain, best gain: -inf\n",
      "[LightGBM] [Warning] No further splits with positive gain, best gain: -inf\n",
      "[LightGBM] [Warning] No further splits with positive gain, best gain: -inf\n",
      "[LightGBM] [Warning] No further splits with positive gain, best gain: -inf\n",
      "[LightGBM] [Warning] No further splits with positive gain, best gain: -inf\n",
      "[LightGBM] [Warning] No further splits with positive gain, best gain: -inf\n",
      "[LightGBM] [Warning] No further splits with positive gain, best gain: -inf\n",
      "[LightGBM] [Warning] No further splits with positive gain, best gain: -inf\n",
      "[LightGBM] [Warning] No further splits with positive gain, best gain: -inf\n",
      "[LightGBM] [Warning] No further splits with positive gain, best gain: -inf\n",
      "[LightGBM] [Warning] No further splits with positive gain, best gain: -inf\n",
      "[LightGBM] [Warning] No further splits with positive gain, best gain: -inf\n",
      "[LightGBM] [Warning] No further splits with positive gain, best gain: -inf\n",
      "[LightGBM] [Warning] No further splits with positive gain, best gain: -inf\n",
      "[LightGBM] [Warning] No further splits with positive gain, best gain: -inf\n",
      "[LightGBM] [Warning] No further splits with positive gain, best gain: -inf\n",
      "[LightGBM] [Warning] No further splits with positive gain, best gain: -inf\n",
      "[LightGBM] [Warning] No further splits with positive gain, best gain: -inf\n",
      "[LightGBM] [Warning] No further splits with positive gain, best gain: -inf\n",
      "[LightGBM] [Warning] No further splits with positive gain, best gain: -inf\n",
      "[LightGBM] [Warning] No further splits with positive gain, best gain: -inf\n",
      "[LightGBM] [Warning] No further splits with positive gain, best gain: -inf\n",
      "[LightGBM] [Warning] No further splits with positive gain, best gain: -inf\n",
      "[LightGBM] [Warning] No further splits with positive gain, best gain: -inf\n",
      "[LightGBM] [Warning] No further splits with positive gain, best gain: -inf\n",
      "[LightGBM] [Warning] No further splits with positive gain, best gain: -inf\n",
      "[LightGBM] [Warning] No further splits with positive gain, best gain: -inf\n",
      "[LightGBM] [Warning] No further splits with positive gain, best gain: -inf\n",
      "[LightGBM] [Warning] No further splits with positive gain, best gain: -inf\n",
      "[LightGBM] [Warning] No further splits with positive gain, best gain: -inf\n",
      "[LightGBM] [Warning] No further splits with positive gain, best gain: -inf\n",
      "[LightGBM] [Warning] No further splits with positive gain, best gain: -inf\n",
      "[LightGBM] [Warning] No further splits with positive gain, best gain: -inf\n",
      "[LightGBM] [Warning] No further splits with positive gain, best gain: -inf\n",
      "[LightGBM] [Warning] No further splits with positive gain, best gain: -inf\n",
      "[LightGBM] [Warning] No further splits with positive gain, best gain: -inf\n",
      "[LightGBM] [Warning] No further splits with positive gain, best gain: -inf\n",
      "[LightGBM] [Warning] No further splits with positive gain, best gain: -inf\n",
      "[LightGBM] [Warning] No further splits with positive gain, best gain: -inf\n",
      "[LightGBM] [Warning] No further splits with positive gain, best gain: -inf\n",
      "[LightGBM] [Warning] No further splits with positive gain, best gain: -inf\n",
      "[LightGBM] [Warning] No further splits with positive gain, best gain: -inf\n",
      "[LightGBM] [Warning] No further splits with positive gain, best gain: -inf\n",
      "[LightGBM] [Warning] No further splits with positive gain, best gain: -inf\n",
      "[LightGBM] [Warning] No further splits with positive gain, best gain: -inf\n",
      "[LightGBM] [Warning] No further splits with positive gain, best gain: -inf\n",
      "[LightGBM] [Warning] No further splits with positive gain, best gain: -inf\n",
      "[LightGBM] [Warning] No further splits with positive gain, best gain: -inf\n",
      "[LightGBM] [Warning] No further splits with positive gain, best gain: -inf\n",
      "[LightGBM] [Warning] No further splits with positive gain, best gain: -inf\n",
      "[LightGBM] [Warning] No further splits with positive gain, best gain: -inf\n",
      "[LightGBM] [Warning] No further splits with positive gain, best gain: -inf\n",
      "[LightGBM] [Warning] No further splits with positive gain, best gain: -inf\n",
      "[LightGBM] [Warning] No further splits with positive gain, best gain: -inf\n",
      "[LightGBM] [Warning] No further splits with positive gain, best gain: -inf\n",
      "[LightGBM] [Warning] No further splits with positive gain, best gain: -inf\n",
      "[LightGBM] [Warning] No further splits with positive gain, best gain: -inf\n",
      "[LightGBM] [Warning] No further splits with positive gain, best gain: -inf\n",
      "[LightGBM] [Warning] No further splits with positive gain, best gain: -inf\n",
      "[LightGBM] [Warning] No further splits with positive gain, best gain: -inf\n",
      "[LightGBM] [Warning] No further splits with positive gain, best gain: -inf\n",
      "[LightGBM] [Warning] No further splits with positive gain, best gain: -inf\n",
      "LightGBM - Précision : 83.00%\n",
      "\n",
      "Résumé des précisions des modèles de Boosting :\n",
      "XGBoost : 83.00%\n",
      "AdaBoost : 66.00%\n",
      "LightGBM : 83.00%\n"
     ]
    }
   ],
   "source": [
    "# Importation des bibliothèques nécessaires\n",
    "from xgboost import XGBClassifier\n",
    "from sklearn.ensemble import AdaBoostClassifier\n",
    "import lightgbm as lgb\n",
    "from sklearn.metrics import classification_report, accuracy_score\n",
    "from sklearn.model_selection import train_test_split\n",
    "\n",
    "# Séparation des variables explicatives et de la cible\n",
    "X = data.drop(columns=['Domaine Recommandé'])  # Features\n",
    "y = data['Domaine Recommandé']  # Target\n",
    "\n",
    "# Division en données d'entraînement et de test\n",
    "X_train, X_test, y_train, y_test = train_test_split(X, y, test_size=0.2, random_state=42)\n",
    "\n",
    "# Modèles de Boosting\n",
    "boosting_models = {\n",
    "    \"XGBoost\": XGBClassifier(use_label_encoder=False, eval_metric='mlogloss', random_state=42),\n",
    "    \"AdaBoost\": AdaBoostClassifier(n_estimators=100, random_state=42),\n",
    "    \"LightGBM\": lgb.LGBMClassifier(random_state=42)\n",
    "}\n",
    "\n",
    "# Stocker les résultats dans un dictionnaire\n",
    "accuracy_results = {}\n",
    "\n",
    "print(\"\\n**Résultats des modèles de Boosting :**\")\n",
    "for model_name, model in boosting_models.items():\n",
    "    # Entraînement\n",
    "    model.fit(X_train, y_train)\n",
    "    y_pred = model.predict(X_test)\n",
    "    \n",
    "    # Calcul de l'accuracy\n",
    "    accuracy = accuracy_score(y_test, y_pred)\n",
    "    accuracy_results[model_name] = accuracy * 100\n",
    "    print(f\"{model_name} - Précision : {accuracy * 100:.2f}%\")\n",
    "\n",
    "# Affichage des résultats\n",
    "print(\"\\nRésumé des précisions des modèles de Boosting :\")\n",
    "for model_name, acc in accuracy_results.items():\n",
    "    print(f\"{model_name} : {acc:.2f}%\")"
   ]
  },
  {
   "cell_type": "code",
   "execution_count": 24,
   "metadata": {},
   "outputs": [
    {
     "name": "stdout",
     "output_type": "stream",
     "text": [
      "\n",
      "**Résultats des modèles avec normalisation/standardisation :**\n",
      "Logistic Regression - Précision : 62.00%\n",
      "K-Nearest Neighbors (KNN) - Précision : 67.50%\n"
     ]
    },
    {
     "name": "stderr",
     "output_type": "stream",
     "text": [
      "c:\\Python312\\Lib\\site-packages\\sklearn\\linear_model\\_logistic.py:1247: FutureWarning: 'multi_class' was deprecated in version 1.5 and will be removed in 1.7. From then on, it will always use 'multinomial'. Leave it to its default value to avoid this warning.\n",
      "  warnings.warn(\n"
     ]
    },
    {
     "name": "stdout",
     "output_type": "stream",
     "text": [
      "SVM (Support Vector Machine) - Précision : 68.50%\n"
     ]
    }
   ],
   "source": [
    "# Standardisation des colonnes continues (Âge et Revenu)\n",
    "scaler = StandardScaler()\n",
    "X_train_scaled = X_train.copy()\n",
    "X_test_scaled = X_test.copy()\n",
    "X_train_scaled[['Âge', 'Revenu']] = scaler.fit_transform(X_train[['Âge', 'Revenu']])\n",
    "X_test_scaled[['Âge', 'Revenu']] = scaler.transform(X_test[['Âge', 'Revenu']])\n",
    "\n",
    "# Modèles qui ont besoin de standardisation/normalisation\n",
    "models_with_scaling = {\n",
    "    \"Logistic Regression\": LogisticRegression(multi_class='multinomial', max_iter=1000),\n",
    "    \"K-Nearest Neighbors (KNN)\": KNeighborsClassifier(n_neighbors=5),\n",
    "    \"SVM (Support Vector Machine)\": SVC(kernel='linear', probability=True)\n",
    "}\n",
    "\n",
    "print(\"\\n**Résultats des modèles avec normalisation/standardisation :**\")\n",
    "for model_name, model in models_with_scaling.items():\n",
    "    # Entraînement\n",
    "    model.fit(X_train_scaled, y_train)\n",
    "    y_pred = model.predict(X_test_scaled)\n",
    "    accuracy = accuracy_score(y_test, y_pred)\n",
    "    print(f\"{model_name} - Précision : {accuracy * 100:.2f}%\")\n"
   ]
  },
  {
   "cell_type": "code",
   "execution_count": 25,
   "metadata": {},
   "outputs": [
    {
     "name": "stdout",
     "output_type": "stream",
     "text": [
      "\n",
      "**Évaluation des modèles sans normalisation/standardisation :**\n",
      "\n",
      "--- Random Forest ---\n",
      "Précision globale : 81.50%\n",
      "\n",
      "Rapport de classification :\n",
      "              precision    recall  f1-score   support\n",
      "\n",
      "           0       0.48      0.42      0.45        31\n",
      "           1       0.00      0.00      0.00         1\n",
      "           2       0.73      0.76      0.74        63\n",
      "           3       0.95      1.00      0.98        59\n",
      "           4       1.00      0.98      0.99        44\n",
      "           5       0.00      0.00      0.00         2\n",
      "\n",
      "    accuracy                           0.81       200\n",
      "   macro avg       0.53      0.53      0.53       200\n",
      "weighted avg       0.80      0.81      0.81       200\n",
      "\n",
      "\n",
      "--- XGBoost ---\n",
      "Précision globale : 83.00%\n",
      "\n",
      "Rapport de classification :\n",
      "              precision    recall  f1-score   support\n",
      "\n",
      "           0       0.47      0.48      0.48        31\n",
      "           1       0.00      0.00      0.00         1\n",
      "           2       0.76      0.75      0.75        63\n",
      "           3       1.00      1.00      1.00        59\n",
      "           4       1.00      1.00      1.00        44\n",
      "           5       1.00      0.50      0.67         2\n",
      "\n",
      "    accuracy                           0.83       200\n",
      "   macro avg       0.70      0.62      0.65       200\n",
      "weighted avg       0.84      0.83      0.83       200\n",
      "\n",
      "\n",
      "--- Decision Tree ---\n",
      "Précision globale : 80.00%\n",
      "\n",
      "Rapport de classification :\n"
     ]
    },
    {
     "name": "stderr",
     "output_type": "stream",
     "text": [
      "c:\\Python312\\Lib\\site-packages\\sklearn\\metrics\\_classification.py:1517: UndefinedMetricWarning: Precision is ill-defined and being set to 0.0 in labels with no predicted samples. Use `zero_division` parameter to control this behavior.\n",
      "  _warn_prf(average, modifier, f\"{metric.capitalize()} is\", len(result))\n",
      "c:\\Python312\\Lib\\site-packages\\sklearn\\metrics\\_classification.py:1517: UndefinedMetricWarning: Precision is ill-defined and being set to 0.0 in labels with no predicted samples. Use `zero_division` parameter to control this behavior.\n",
      "  _warn_prf(average, modifier, f\"{metric.capitalize()} is\", len(result))\n",
      "c:\\Python312\\Lib\\site-packages\\sklearn\\metrics\\_classification.py:1517: UndefinedMetricWarning: Precision is ill-defined and being set to 0.0 in labels with no predicted samples. Use `zero_division` parameter to control this behavior.\n",
      "  _warn_prf(average, modifier, f\"{metric.capitalize()} is\", len(result))\n",
      "c:\\Python312\\Lib\\site-packages\\sklearn\\metrics\\_classification.py:1517: UndefinedMetricWarning: Precision is ill-defined and being set to 0.0 in labels with no predicted samples. Use `zero_division` parameter to control this behavior.\n",
      "  _warn_prf(average, modifier, f\"{metric.capitalize()} is\", len(result))\n",
      "c:\\Python312\\Lib\\site-packages\\sklearn\\metrics\\_classification.py:1517: UndefinedMetricWarning: Precision is ill-defined and being set to 0.0 in labels with no predicted samples. Use `zero_division` parameter to control this behavior.\n",
      "  _warn_prf(average, modifier, f\"{metric.capitalize()} is\", len(result))\n",
      "c:\\Python312\\Lib\\site-packages\\sklearn\\metrics\\_classification.py:1517: UndefinedMetricWarning: Precision is ill-defined and being set to 0.0 in labels with no predicted samples. Use `zero_division` parameter to control this behavior.\n",
      "  _warn_prf(average, modifier, f\"{metric.capitalize()} is\", len(result))\n",
      "c:\\Python312\\Lib\\site-packages\\sklearn\\metrics\\_classification.py:1517: UndefinedMetricWarning: Precision is ill-defined and being set to 0.0 in labels with no predicted samples. Use `zero_division` parameter to control this behavior.\n",
      "  _warn_prf(average, modifier, f\"{metric.capitalize()} is\", len(result))\n",
      "c:\\Python312\\Lib\\site-packages\\sklearn\\metrics\\_classification.py:1517: UndefinedMetricWarning: Precision is ill-defined and being set to 0.0 in labels with no predicted samples. Use `zero_division` parameter to control this behavior.\n",
      "  _warn_prf(average, modifier, f\"{metric.capitalize()} is\", len(result))\n",
      "c:\\Python312\\Lib\\site-packages\\sklearn\\metrics\\_classification.py:1517: UndefinedMetricWarning: Precision is ill-defined and being set to 0.0 in labels with no predicted samples. Use `zero_division` parameter to control this behavior.\n",
      "  _warn_prf(average, modifier, f\"{metric.capitalize()} is\", len(result))\n",
      "c:\\Python312\\Lib\\site-packages\\sklearn\\metrics\\_classification.py:1517: UndefinedMetricWarning: Precision is ill-defined and being set to 0.0 in labels with no predicted samples. Use `zero_division` parameter to control this behavior.\n",
      "  _warn_prf(average, modifier, f\"{metric.capitalize()} is\", len(result))\n",
      "c:\\Python312\\Lib\\site-packages\\sklearn\\metrics\\_classification.py:1517: UndefinedMetricWarning: Precision is ill-defined and being set to 0.0 in labels with no predicted samples. Use `zero_division` parameter to control this behavior.\n",
      "  _warn_prf(average, modifier, f\"{metric.capitalize()} is\", len(result))\n",
      "c:\\Python312\\Lib\\site-packages\\sklearn\\metrics\\_classification.py:1517: UndefinedMetricWarning: Precision is ill-defined and being set to 0.0 in labels with no predicted samples. Use `zero_division` parameter to control this behavior.\n",
      "  _warn_prf(average, modifier, f\"{metric.capitalize()} is\", len(result))\n",
      "c:\\Python312\\Lib\\site-packages\\sklearn\\metrics\\_classification.py:1517: UndefinedMetricWarning: Precision is ill-defined and being set to 0.0 in labels with no predicted samples. Use `zero_division` parameter to control this behavior.\n",
      "  _warn_prf(average, modifier, f\"{metric.capitalize()} is\", len(result))\n",
      "c:\\Python312\\Lib\\site-packages\\sklearn\\metrics\\_classification.py:1517: UndefinedMetricWarning: Precision is ill-defined and being set to 0.0 in labels with no predicted samples. Use `zero_division` parameter to control this behavior.\n",
      "  _warn_prf(average, modifier, f\"{metric.capitalize()} is\", len(result))\n",
      "c:\\Python312\\Lib\\site-packages\\sklearn\\metrics\\_classification.py:1517: UndefinedMetricWarning: Precision is ill-defined and being set to 0.0 in labels with no predicted samples. Use `zero_division` parameter to control this behavior.\n",
      "  _warn_prf(average, modifier, f\"{metric.capitalize()} is\", len(result))\n"
     ]
    },
    {
     "name": "stdout",
     "output_type": "stream",
     "text": [
      "              precision    recall  f1-score   support\n",
      "\n",
      "           0       0.33      0.26      0.29        31\n",
      "           1       0.00      0.00      0.00         1\n",
      "           2       0.69      0.76      0.72        63\n",
      "           3       1.00      1.00      1.00        59\n",
      "           4       1.00      1.00      1.00        44\n",
      "           5       0.33      0.50      0.40         2\n",
      "\n",
      "    accuracy                           0.80       200\n",
      "   macro avg       0.56      0.59      0.57       200\n",
      "weighted avg       0.79      0.80      0.79       200\n",
      "\n",
      "\n",
      "**Évaluation des modèles avec normalisation/standardisation :**\n",
      "\n",
      "--- Logistic Regression ---\n",
      "Précision globale : 62.00%\n",
      "\n",
      "Rapport de classification :\n",
      "              precision    recall  f1-score   support\n",
      "\n",
      "           0       0.37      0.32      0.34        31\n",
      "           1       0.00      0.00      0.00         1\n",
      "           2       0.62      0.52      0.57        63\n",
      "           3       0.64      0.90      0.75        59\n",
      "           4       0.76      0.64      0.69        44\n",
      "           5       0.00      0.00      0.00         2\n",
      "\n",
      "    accuracy                           0.62       200\n",
      "   macro avg       0.40      0.40      0.39       200\n",
      "weighted avg       0.61      0.62      0.60       200\n",
      "\n",
      "\n",
      "--- K-Nearest Neighbors (KNN) ---\n",
      "Précision globale : 67.50%\n",
      "\n",
      "Rapport de classification :\n",
      "              precision    recall  f1-score   support\n",
      "\n",
      "           0       0.44      0.45      0.44        31\n",
      "           1       0.00      0.00      0.00         1\n",
      "           2       0.62      0.57      0.60        63\n",
      "           3       0.72      0.98      0.83        59\n",
      "           4       0.93      0.61      0.74        44\n",
      "           5       0.00      0.00      0.00         2\n",
      "\n",
      "    accuracy                           0.68       200\n",
      "   macro avg       0.45      0.44      0.43       200\n",
      "weighted avg       0.68      0.68      0.66       200\n",
      "\n",
      "\n",
      "--- SVM (Support Vector Machine) ---\n",
      "Précision globale : 68.50%\n",
      "\n",
      "Rapport de classification :\n",
      "              precision    recall  f1-score   support\n",
      "\n",
      "           0       0.44      0.39      0.41        31\n",
      "           1       0.00      0.00      0.00         1\n",
      "           2       0.69      0.59      0.63        63\n",
      "           3       0.69      1.00      0.81        59\n",
      "           4       0.88      0.66      0.75        44\n",
      "           5       0.00      0.00      0.00         2\n",
      "\n",
      "    accuracy                           0.69       200\n",
      "   macro avg       0.45      0.44      0.44       200\n",
      "weighted avg       0.68      0.69      0.67       200\n",
      "\n"
     ]
    },
    {
     "data": {
      "image/png": "[encoded data removed]",
      "text/plain": [
       "<Figure size 640x480 with 2 Axes>"
      ]
     },
     "metadata": {},
     "output_type": "display_data"
    },
    {
     "data": {
      "image/png": "[encoded data removed]",
      "text/plain": [
       "<Figure size 640x480 with 2 Axes>"
      ]
     },
     "metadata": {},
     "output_type": "display_data"
    },
    {
     "data": {
      "image/png": "[encoded data removed]",
      "text/plain": [
       "<Figure size 640x480 with 2 Axes>"
      ]
     },
     "metadata": {},
     "output_type": "display_data"
    },
    {
     "data": {
      "image/png": "[encoded data removed]",
      "text/plain": [
       "<Figure size 640x480 with 2 Axes>"
      ]
     },
     "metadata": {},
     "output_type": "display_data"
    },
    {
     "data": {
      "image/png": "[encoded data removed]",
      "text/plain": [
       "<Figure size 640x480 with 2 Axes>"
      ]
     },
     "metadata": {},
     "output_type": "display_data"
    },
    {
     "data": {
      "image/png": "[encoded data removed]",
      "text/plain": [
       "<Figure size 640x480 with 2 Axes>"
      ]
     },
     "metadata": {},
     "output_type": "display_data"
    }
   ],
   "source": [
    "from sklearn.metrics import classification_report, confusion_matrix, ConfusionMatrixDisplay\n",
    "\n",
    "# Fonction d'évaluation des modèles\n",
    "def evaluate_model(model, model_name, X_test, y_test):\n",
    "    y_pred = model.predict(X_test)\n",
    "    print(f\"\\n--- {model_name} ---\")\n",
    "    print(f\"Précision globale : {accuracy_score(y_test, y_pred) * 100:.2f}%\")\n",
    "    \n",
    "    # Matrice de confusion\n",
    "    cm = confusion_matrix(y_test, y_pred)\n",
    "    disp = ConfusionMatrixDisplay(confusion_matrix=cm)\n",
    "    disp.plot(cmap='Blues')\n",
    "    disp.ax_.set_title(f'Matrice de confusion - {model_name}')\n",
    "    \n",
    "    # Rapport de classification\n",
    "    print(\"\\nRapport de classification :\")\n",
    "    print(classification_report(y_test, y_pred))\n",
    "\n",
    "# Évaluation des modèles sans normalisation/standardisation\n",
    "print(\"\\n**Évaluation des modèles sans normalisation/standardisation :**\")\n",
    "for model_name, model in models_without_scaling.items():\n",
    "    evaluate_model(model, model_name, X_test, y_test)\n",
    "\n",
    "# Évaluation des modèles avec normalisation/standardisation\n",
    "print(\"\\n**Évaluation des modèles avec normalisation/standardisation :**\")\n",
    "for model_name, model in models_with_scaling.items():\n",
    "    evaluate_model(model, model_name, X_test_scaled, y_test)\n"
   ]
  },
  {
   "cell_type": "code",
   "execution_count": 26,
   "metadata": {},
   "outputs": [],
   "source": [
    "# Sauvegarder le dataset encodé si besoin\n",
    "#encoded_file_path = \"data.csv\"\n",
    "#encoded_data.to_csv(encoded_file_path, index=False)\n",
    "#print(f\"\\nDataset encodé sauvegardé sous : {encoded_file_path}\")"
   ]
  },
  {
   "cell_type": "code",
   "execution_count": 27,
   "metadata": {},
   "outputs": [
    {
     "name": "stdout",
     "output_type": "stream",
     "text": [
      "Modèle enregistré dans 'model.pkl'\n"
     ]
    }
   ],
   "source": [
    "import pickle\n",
    "\n",
    "# Enregistrer le modèle entraîné\n",
    "with open(\"model.pkl\", \"wb\") as f:\n",
    "    pickle.dump(model, f)\n",
    "\n",
    "print(\"Modèle enregistré dans 'model.pkl'\")\n"
   ]
  },
  {
   "cell_type": "code",
   "execution_count": 28,
   "metadata": {},
   "outputs": [
    {
     "name": "stdout",
     "output_type": "stream",
     "text": [
      "['Genre' 'Ville' 'Âge' 'Revenu' 'Tolérance au Risque' 'Objectif Financier'\n",
      " 'Secteur Préféré' \"Fréquence d'Investissement\" 'invest_fundraising'\n",
      " 'invest_etf' 'invest_actions' 'invest_immobilier' 'invest_obligations'\n",
      " 'invest_investissement socialement responsable' 'invest_cryptomonnaies'\n",
      " 'invest_startups' 'invest_matières premières']\n"
     ]
    }
   ],
   "source": [
    "print(model.feature_names_in_)\n"
   ]
  }
 ],
 "metadata": {
  "kernelspec": {
   "display_name": "Python 3",
   "language": "python",
   "name": "python3"
  },
  "language_info": {
   "codemirror_mode": {
    "name": "ipython",
    "version": 3
   },
   "file_extension": ".py",
   "mimetype": "text/x-python",
   "name": "python",
   "nbconvert_exporter": "python",
   "pygments_lexer": "ipython3",
   "version": "3.12.2"
  }
 },
 "nbformat": 4,
 "nbformat_minor": 2
}
