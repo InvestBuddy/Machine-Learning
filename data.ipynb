{
 "cells": [
  {
   "cell_type": "code",
   "execution_count": 90,
   "metadata": {},
   "outputs": [
    {
     "name": "stdout",
     "output_type": "stream",
     "text": [
      "Overview of the first rows of the dataset :\n",
      "                             Name Gender         City  Age    Income  \\\n",
      "0  Constance Olivier Le LemaÃ®tre  Women        Paris   48  91061.68   \n",
      "1                    AdÃ¨le Duval    Man  Montpellier   60  95493.18   \n",
      "2         Simone Masson de Collin  Women         Nice   40  84344.87   \n",
      "3           Gabrielle Pichon-Paul  Women         Lyon   44  59332.79   \n",
      "4               Martin Le Chauvin  Women       Nantes   40  75818.07   \n",
      "\n",
      "  Risk Tolerance            Investment History  Financial Objective  \\\n",
      "0           High          Actions, Obligations             Retraite   \n",
      "1         Medium              ETF, Fundraising  Épargne de sécurité   \n",
      "2           High       Obligations, Immobilier             Retraite   \n",
      "3         Medium          Actions, Obligations             Retraite   \n",
      "4           High  Fundraising, ETF, Immobilier     Achat immobilier   \n",
      "\n",
      "  Preferred Sector Investment Frequency Recommended Domain  \n",
      "0            Santé              Mensuel            Actions  \n",
      "1        Industrie          Trimestriel        Obligations  \n",
      "2          Finance              Mensuel            Actions  \n",
      "3       Immobilier          Trimestriel         Immobilier  \n",
      "4            Santé          Trimestriel                ETF  \n"
     ]
    }
   ],
   "source": [
    "import pandas as pd\n",
    "from sklearn.model_selection import train_test_split\n",
    "from sklearn.preprocessing import LabelEncoder\n",
    "from sklearn.ensemble import RandomForestClassifier\n",
    "from sklearn.metrics import classification_report, accuracy_score\n",
    "\n",
    "# Chargement des données\n",
    "\n",
    "file_path = 'C:/Users/benab/OneDrive/Bureau/ML-JEE/enhanced_investment_data1.csv'\n",
    "data = pd.read_csv(file_path,encoding='ISO-8859-1')\n",
    "\n",
    "# Afficher un aperçu des données\n",
    "print(\"Overview of the first rows of the dataset :\")\n",
    "print(data.head())"
   ]
  },
  {
   "cell_type": "code",
   "execution_count": 91,
   "metadata": {},
   "outputs": [
    {
     "name": "stdout",
     "output_type": "stream",
     "text": [
      "\n",
      "General information about the dataset :\n",
      "<class 'pandas.core.frame.DataFrame'>\n",
      "RangeIndex: 1000 entries, 0 to 999\n",
      "Data columns (total 11 columns):\n",
      " #   Column                Non-Null Count  Dtype  \n",
      "---  ------                --------------  -----  \n",
      " 0   Name                  1000 non-null   object \n",
      " 1   Gender                1000 non-null   object \n",
      " 2   City                  1000 non-null   object \n",
      " 3   Age                   1000 non-null   int64  \n",
      " 4   Income                1000 non-null   float64\n",
      " 5   Risk Tolerance        1000 non-null   object \n",
      " 6   Investment History    1000 non-null   object \n",
      " 7   Financial Objective   1000 non-null   object \n",
      " 8   Preferred Sector      1000 non-null   object \n",
      " 9   Investment Frequency  1000 non-null   object \n",
      " 10  Recommended Domain    1000 non-null   object \n",
      "dtypes: float64(1), int64(1), object(9)\n",
      "memory usage: 86.1+ KB\n",
      "None\n"
     ]
    }
   ],
   "source": [
    "# 1. Vérification des informations de base sur le dataset\n",
    "print(\"\\nGeneral information about the dataset :\")\n",
    "print(data.info())"
   ]
  },
  {
   "cell_type": "code",
   "execution_count": 92,
   "metadata": {},
   "outputs": [
    {
     "name": "stdout",
     "output_type": "stream",
     "text": [
      "\n",
      "Missing values by column :\n",
      "Name                    0\n",
      "Gender                  0\n",
      "City                    0\n",
      "Age                     0\n",
      "Income                  0\n",
      "Risk Tolerance          0\n",
      "Investment History      0\n",
      "Financial Objective     0\n",
      "Preferred Sector        0\n",
      "Investment Frequency    0\n",
      "Recommended Domain      0\n",
      "dtype: int64\n"
     ]
    }
   ],
   "source": [
    "# 2. Vérification des valeurs manquantes\n",
    "print(\"\\nMissing values by column :\")\n",
    "print(data.isnull().sum())"
   ]
  },
  {
   "cell_type": "code",
   "execution_count": 93,
   "metadata": {},
   "outputs": [
    {
     "name": "stdout",
     "output_type": "stream",
     "text": [
      "\n",
      "Number of duplicates before deletion : 0\n",
      "Number of duplicates after deletion : 0\n"
     ]
    }
   ],
   "source": [
    "# 3. Suppression des doublons\n",
    "print(\"\\nNumber of duplicates before deletion :\", data.duplicated().sum())\n",
    "data = data.drop_duplicates()\n",
    "print(\"Number of duplicates after deletion :\", data.duplicated().sum())"
   ]
  },
  {
   "cell_type": "code",
   "execution_count": 94,
   "metadata": {},
   "outputs": [],
   "source": [
    "# 4. Nettoyage des chaînes de caractères (suppression des espaces inutiles, mise en minuscule)\n",
    "def clean_text_columns(df, columns):\n",
    "    for col in columns:\n",
    "        df[col] = df[col].str.strip().str.lower()\n",
    "    return df\n",
    "\n",
    "text_columns = ['Name', 'Gender', 'City', 'Risk Tolerance', 'Investment History',\n",
    "                 'Financial Objective', 'Preferred Sector', 'Investment Frequency', 'Recommended Domain']\n",
    "data = clean_text_columns(data, text_columns)"
   ]
  },
  {
   "cell_type": "code",
   "execution_count": 95,
   "metadata": {},
   "outputs": [],
   "source": [
    "# 5. Harmonisation des genres\n",
    "data['Gender'] = data['Gender'].replace({'women': 'Women', 'man': 'Man'})"
   ]
  },
  {
   "cell_type": "code",
   "execution_count": 96,
   "metadata": {},
   "outputs": [
    {
     "name": "stdout",
     "output_type": "stream",
     "text": [
      "\n",
      "Unique Categories for Gender :\n",
      "['Women' 'Man']\n"
     ]
    }
   ],
   "source": [
    "# 6. Affichage des catégories uniques dans certaines colonnes pour vérification\n",
    "print(\"\\nUnique Categories for Gender :\")\n",
    "print(data['Gender'].unique())"
   ]
  },
  {
   "cell_type": "code",
   "execution_count": 97,
   "metadata": {},
   "outputs": [
    {
     "name": "stdout",
     "output_type": "stream",
     "text": [
      "\n",
      "Unique Categories for Risk Tolerance :\n",
      "['high' 'medium' 'low']\n"
     ]
    }
   ],
   "source": [
    "print(\"\\nUnique Categories for Risk Tolerance :\")\n",
    "print(data['Risk Tolerance'].unique())"
   ]
  },
  {
   "cell_type": "code",
   "execution_count": 98,
   "metadata": {},
   "outputs": [
    {
     "name": "stdout",
     "output_type": "stream",
     "text": [
      "\n",
      "Unique Categories for Investment Frequency :\n",
      "['mensuel' 'trimestriel' 'annuel']\n"
     ]
    }
   ],
   "source": [
    "print(\"\\nUnique Categories for Investment Frequency :\")\n",
    "print(data['Investment Frequency'].unique())"
   ]
  },
  {
   "cell_type": "code",
   "execution_count": 99,
   "metadata": {},
   "outputs": [
    {
     "name": "stdout",
     "output_type": "stream",
     "text": [
      "\n",
      "Unique Categories for Recommended Domain :\n",
      "['actions' 'obligations' 'immobilier' 'etf' 'cryptomonnaies' 'startups']\n"
     ]
    }
   ],
   "source": [
    "print(\"\\nUnique Categories for Recommended Domain :\")\n",
    "print(data['Recommended Domain'].unique())"
   ]
  },
  {
   "cell_type": "code",
   "execution_count": 100,
   "metadata": {},
   "outputs": [],
   "source": [
    "# 7. Encodage optionnel (si nécessaire pour le Machine Learning)\n",
    "from sklearn.preprocessing import LabelEncoder\n",
    "\n",
    "\n",
    "encoder = LabelEncoder()\n",
    "encoded_columns = ['Gender', 'Risk Tolerance', 'Financial Objective', 'Preferred Sector', 'Investment Frequency', 'Recommended Domain']\n",
    "for col in encoded_columns:\n",
    "    data[col] = encoder.fit_transform(data[col])"
   ]
  },
  {
   "cell_type": "code",
   "execution_count": 101,
   "metadata": {},
   "outputs": [
    {
     "name": "stdout",
     "output_type": "stream",
     "text": [
      "\n",
      "Statistical summary of numeric columns :\n",
      "            Gender          Age         Income  Risk Tolerance  \\\n",
      "count  1000.000000  1000.000000    1000.000000     1000.000000   \n",
      "mean      0.513000    42.039000   61025.692030        1.324000   \n",
      "std       0.500081    11.038357   28184.942734        0.941228   \n",
      "min       0.000000    25.000000    5843.110000        0.000000   \n",
      "25%       0.000000    34.000000   40586.727500        0.000000   \n",
      "50%       1.000000    42.000000   56614.175000        2.000000   \n",
      "75%       1.000000    50.000000   76320.660000        2.000000   \n",
      "max       1.000000    70.000000  164195.870000        2.000000   \n",
      "\n",
      "       Financial Objective  Preferred Sector  Investment Frequency  \\\n",
      "count          1000.000000        1000.00000           1000.000000   \n",
      "mean              2.619000           3.38900              1.716000   \n",
      "std               1.760949           1.80913              0.582824   \n",
      "min               0.000000           0.00000              0.000000   \n",
      "25%               2.000000           2.00000              2.000000   \n",
      "50%               2.000000           3.00000              2.000000   \n",
      "75%               4.000000           5.00000              2.000000   \n",
      "max               6.000000           6.00000              2.000000   \n",
      "\n",
      "       Recommended Domain  \n",
      "count         1000.000000  \n",
      "mean             2.368000  \n",
      "std              1.351445  \n",
      "min              0.000000  \n",
      "25%              2.000000  \n",
      "50%              3.000000  \n",
      "75%              3.000000  \n",
      "max              5.000000  \n"
     ]
    }
   ],
   "source": [
    "# 8. Résumé statistique des colonnes numériques\n",
    "print(\"\\nStatistical summary of numeric columns :\")\n",
    "print(data.describe())"
   ]
  },
  {
   "cell_type": "code",
   "execution_count": 102,
   "metadata": {},
   "outputs": [
    {
     "name": "stdout",
     "output_type": "stream",
     "text": [
      "\n",
      "General information about the dataset :\n",
      "<class 'pandas.core.frame.DataFrame'>\n",
      "RangeIndex: 1000 entries, 0 to 999\n",
      "Data columns (total 11 columns):\n",
      " #   Column                Non-Null Count  Dtype  \n",
      "---  ------                --------------  -----  \n",
      " 0   Name                  1000 non-null   object \n",
      " 1   Gender                1000 non-null   int32  \n",
      " 2   City                  1000 non-null   object \n",
      " 3   Age                   1000 non-null   int64  \n",
      " 4   Income                1000 non-null   float64\n",
      " 5   Risk Tolerance        1000 non-null   int32  \n",
      " 6   Investment History    1000 non-null   object \n",
      " 7   Financial Objective   1000 non-null   int32  \n",
      " 8   Preferred Sector      1000 non-null   int32  \n",
      " 9   Investment Frequency  1000 non-null   int32  \n",
      " 10  Recommended Domain    1000 non-null   int32  \n",
      "dtypes: float64(1), int32(6), int64(1), object(3)\n",
      "memory usage: 62.6+ KB\n",
      "None\n"
     ]
    }
   ],
   "source": [
    "# 1. Vérification des informations de base sur le dataset\n",
    "print(\"\\nGeneral information about the dataset :\")\n",
    "print(data.info())"
   ]
  },
  {
   "cell_type": "code",
   "execution_count": 103,
   "metadata": {},
   "outputs": [],
   "source": [
    "# 1. Suppression de la colonne \"Nom\" (non utile pour le ML)\n",
    "data = data.drop(columns=['Name'])\n",
    "\n",
    "# 2. Encodage des villes (Label Encoding)\n",
    "data['City'] = encoder.fit_transform(data['City'])"
   ]
  },
  {
   "cell_type": "code",
   "execution_count": 104,
   "metadata": {},
   "outputs": [
    {
     "name": "stdout",
     "output_type": "stream",
     "text": [
      "\n",
      "Data preview after encoding 'Investment History' :\n",
      "   Gender  City  Age    Income  Risk Tolerance  Investment History  \\\n",
      "0       1     7   48  91061.68               0  110000000000001100   \n",
      "1       0     4   60  95493.18               2  000011110000000000   \n",
      "2       1     6   40  84344.87               0  000000001100001100   \n",
      "3       1     2   44  59332.79               2  110000000000001100   \n",
      "4       1     5   40  75818.07               0  000011111100000000   \n",
      "\n",
      "   Financial Objective  Preferred Sector  Investment Frequency  \\\n",
      "0                    2                 5                     1   \n",
      "1                    6                 4                     2   \n",
      "2                    2                 2                     1   \n",
      "3                    2                 3                     2   \n",
      "4                    0                 5                     2   \n",
      "\n",
      "   Recommended Domain  \n",
      "0                   0  \n",
      "1                   4  \n",
      "2                   0  \n",
      "3                   3  \n",
      "4                   2  \n"
     ]
    }
   ],
   "source": [
    "# Liste des types d'investissements possibles\n",
    "investment_types = set()\n",
    "data['Investment History'].apply(lambda x: investment_types.update(x.split(',')))\n",
    "\n",
    "# Nettoyer et ordonner les types d'investissement\n",
    "investment_types = sorted([inv_type.strip().lower() for inv_type in investment_types])\n",
    "\n",
    "# Encoder la colonne \"Historique d'Investissement\" en une chaîne binaire\n",
    "def encode_investments(investment_string, investment_types):\n",
    "    # Convertir en binaire selon les types d'investissement\n",
    "    investment_string = investment_string.lower()\n",
    "    return ''.join(['1' if inv_type in investment_string else '0' for inv_type in investment_types])\n",
    "\n",
    "# Appliquer l'encodage dans la même colonne\n",
    "data['Investment History'] = data['Investment History'].apply(lambda x: encode_investments(x, investment_types))\n",
    "\n",
    "print(\"\\nData preview after encoding 'Investment History' :\")\n",
    "print(data.head())\n"
   ]
  },
  {
   "cell_type": "code",
   "execution_count": 105,
   "metadata": {},
   "outputs": [
    {
     "name": "stdout",
     "output_type": "stream",
     "text": [
      "\n",
      "General information about the dataset :\n",
      "<class 'pandas.core.frame.DataFrame'>\n",
      "RangeIndex: 1000 entries, 0 to 999\n",
      "Data columns (total 10 columns):\n",
      " #   Column                Non-Null Count  Dtype  \n",
      "---  ------                --------------  -----  \n",
      " 0   Gender                1000 non-null   int32  \n",
      " 1   City                  1000 non-null   int32  \n",
      " 2   Age                   1000 non-null   int64  \n",
      " 3   Income                1000 non-null   float64\n",
      " 4   Risk Tolerance        1000 non-null   int32  \n",
      " 5   Investment History    1000 non-null   object \n",
      " 6   Financial Objective   1000 non-null   int32  \n",
      " 7   Preferred Sector      1000 non-null   int32  \n",
      " 8   Investment Frequency  1000 non-null   int32  \n",
      " 9   Recommended Domain    1000 non-null   int32  \n",
      "dtypes: float64(1), int32(7), int64(1), object(1)\n",
      "memory usage: 50.9+ KB\n",
      "None\n"
     ]
    }
   ],
   "source": [
    "# 1. Vérification des informations de base sur le dataset\n",
    "print(\"\\nGeneral information about the dataset :\")\n",
    "print(data.info())"
   ]
  },
  {
   "cell_type": "code",
   "execution_count": 106,
   "metadata": {},
   "outputs": [
    {
     "name": "stdout",
     "output_type": "stream",
     "text": [
      "Mapping encoded values : {0: 0, 1: 1, 2: 2, 3: 3, 4: 4, 5: 5}\n"
     ]
    }
   ],
   "source": [
    "# Encodage de la colonne cible avec LabelEncoder\n",
    "from sklearn.preprocessing import LabelEncoder\n",
    "\n",
    "encoder = LabelEncoder()\n",
    "data['Recommended Domain'] = encoder.fit_transform(data['Recommended Domain'])\n",
    "\n",
    "# Affichage des correspondances (catégorie -> valeur numérique)\n",
    "label_mapping = dict(zip(encoder.classes_, encoder.transform(encoder.classes_)))\n",
    "print(\"Mapping encoded values :\", label_mapping)\n"
   ]
  },
  {
   "cell_type": "code",
   "execution_count": 107,
   "metadata": {},
   "outputs": [],
   "source": [
    "# 9. Sauvegarde du dataset nettoyé\n",
    "#cleaned_file_path = \"newdata1.csv\"\n",
    "#data.to_csv(cleaned_file_path, index=False)\n",
    "#print(f\"\\nDataset nettoyé sauvegardé sous : {cleaned_file_path}\")"
   ]
  },
  {
   "cell_type": "code",
   "execution_count": 108,
   "metadata": {},
   "outputs": [
    {
     "name": "stdout",
     "output_type": "stream",
     "text": [
      "\n",
      "Encoded Column Mappings :\n",
      "\n",
      "Investment History : {'000000000000000011': 0, '000000000000001100': 1, '000000000000001111': 2, '000000000000011111': 3, '000000000000100000': 4, '000000000000100011': 5, '000000000000101100': 6, '000000000011001100': 7, '000000000011010000': 8, '000000000011100000': 9, '000000000011101100': 10, '000000001100000000': 11, '000000001100000011': 12, '000000001100001100': 13, '000000001100001111': 14, '000000001100011100': 15, '000000001100100000': 16, '000000001111000000': 17, '000000001111001100': 18, '000000110000000000': 19, '000000110000000011': 20, '000000110000001100': 21, '000000110000001111': 22, '000000110000100000': 23, '000000110011000000': 24, '000000111100000000': 25, '000000111100001100': 26, '000011000000000000': 27, '000011000000000011': 28, '000011000000001100': 29, '000011000000001111': 30, '000011000000011111': 31, '000011000000100000': 32, '000011000000101100': 33, '000011000011000000': 34, '000011000011000011': 35, '000011000011001100': 36, '000011001100000000': 37, '000011001100000011': 38, '000011001100001100': 39, '000011001100001111': 40, '000011001100011100': 41, '000011001100100000': 42, '000011001111000000': 43, '000011110000000000': 44, '000011110000001100': 45, '000011110000001111': 46, '000011110000011100': 47, '000011110000100000': 48, '000011111100000000': 49, '000011111100001100': 50, '000011111111000000': 51, '001100000000000000': 52, '001100000000000011': 53, '001100000000001100': 54, '001100000000001111': 55, '001100000000010000': 56, '001100000000010011': 57, '001100000000011100': 58, '001100000000011111': 59, '001100001100000000': 60, '001100001100000011': 61, '001100001100001100': 62, '001100001100010000': 63, '001100001100011100': 64, '001100001111001100': 65, '001100110000000000': 66, '001100110000000011': 67, '001100110000001100': 68, '001100110000001111': 69, '001100111100000000': 70, '001100111100010000': 71, '001111000000000000': 72, '001111000000000011': 73, '001111000000001100': 74, '001111000000001111': 75, '001111000000010000': 76, '001111000000010011': 77, '001111000011000000': 78, '001111000011011100': 79, '001111001100000000': 80, '001111001100000011': 81, '001111001100001100': 82, '001111001100010000': 83, '001111110000000000': 84, '001111111100000011': 85, '110000000000000000': 86, '110000000000000011': 87, '110000000000001100': 88, '110000000000001111': 89, '110000000000010000': 90, '110000000000011100': 91, '110000000000100000': 92, '110000000000100011': 93, '110000000000101100': 94, '110000000011000000': 95, '110000000011010000': 96, '110000000011010011': 97, '110000001100000000': 98, '110000001100000011': 99, '110000001100001100': 100, '110000001100010000': 101, '110000001100011100': 102, '110000001100100000': 103, '110000001100101100': 104, '110000001100101111': 105, '110000001111000000': 106, '110000001111001100': 107, '110000110000000000': 108, '110000110000000011': 109, '110000110000001100': 110, '110000110000001111': 111, '110000110011000000': 112, '110000111100000000': 113, '110000111100011100': 114, '110011000000000000': 115, '110011000000000011': 116, '110011000000001100': 117, '110011000000001111': 118, '110011000000010000': 119, '110011000000011100': 120, '110011000000100000': 121, '110011000000101100': 122, '110011000011000000': 123, '110011000011001100': 124, '110011001100000000': 125, '110011001100000011': 126, '110011001100001100': 127, '110011001100100000': 128, '110011001100100011': 129, '110011001100101100': 130, '110011001111000000': 131, '110011001111001100': 132, '110011001111010000': 133, '110011110000000000': 134, '110011110000000011': 135, '110011111100000000': 136, '111100000000000000': 137, '111100000000000011': 138, '111100000000001100': 139, '111100000000001111': 140, '111100000000010000': 141, '111100000000011100': 142, '111100000011000000': 143, '111100001100000000': 144, '111100001100000011': 145, '111100001100001100': 146, '111100001100010000': 147, '111100110000000000': 148, '111100110000001100': 149, '111100110000001111': 150, '111100110000010000': 151, '111100111100000000': 152, '111100111100001100': 153, '111111000000000000': 154, '111111000000000011': 155, '111111000000001100': 156, '111111000000010000': 157, '111111000000101100': 158, '111111000011000000': 159, '111111001100000000': 160, '111111001100000011': 161, '111111001100001100': 162, '111111110000000000': 163}\n",
      "\n",
      "Preview of the first lines of the encoded data :\n",
      "   Gender  City  Age    Income  Risk Tolerance  Investment History  \\\n",
      "0       1     7   48  91061.68               0                  88   \n",
      "1       0     4   60  95493.18               2                  44   \n",
      "2       1     6   40  84344.87               0                  13   \n",
      "3       1     2   44  59332.79               2                  88   \n",
      "4       1     5   40  75818.07               0                  49   \n",
      "\n",
      "   Financial Objective  Preferred Sector  Investment Frequency  \\\n",
      "0                    2                 5                     1   \n",
      "1                    6                 4                     2   \n",
      "2                    2                 2                     1   \n",
      "3                    2                 3                     2   \n",
      "4                    0                 5                     2   \n",
      "\n",
      "   Recommended Domain  \n",
      "0                   0  \n",
      "1                   4  \n",
      "2                   0  \n",
      "3                   3  \n",
      "4                   2  \n"
     ]
    }
   ],
   "source": [
    "# Trouver les colonnes de type 'object'\n",
    "object_columns = data.select_dtypes(include=['object']).columns\n",
    "\n",
    "# Initialiser un dictionnaire pour sauvegarder les mappings\n",
    "encoders = {}\n",
    "encoded_data = data.copy()\n",
    "\n",
    "# Encoder chaque colonne de type 'object'\n",
    "for col in object_columns:\n",
    "    encoder = LabelEncoder()\n",
    "    encoded_data[col] = encoder.fit_transform(encoded_data[col])\n",
    "    encoders[col] = dict(zip(encoder.classes_, encoder.transform(encoder.classes_)))  # Sauvegarder le mapping pour chaque colonne\n",
    "\n",
    "# Affichage des encodages réalisés\n",
    "print(\"\\nEncoded Column Mappings :\")\n",
    "for col, mapping in encoders.items():\n",
    "    print(f\"\\n{col} : {mapping}\")\n",
    "# Aperçu des données encodées\n",
    "print(\"\\nPreview of the first lines of the encoded data :\")\n",
    "print(encoded_data.head())\n",
    "# Sauvegarder le dataset encodé si besoin\n",
    "#encoded_file_path = \"encoded_user_investment_data.csv\"\n",
    "#encoded_data.to_csv(encoded_file_path, index=False)\n",
    "#print(f\"\\nDataset encodé sauvegardé sous : {encoded_file_path}\")\n"
   ]
  },
  {
   "cell_type": "code",
   "execution_count": 109,
   "metadata": {},
   "outputs": [
    {
     "name": "stdout",
     "output_type": "stream",
     "text": [
      "\n",
      "General information about the dataset :\n",
      "<class 'pandas.core.frame.DataFrame'>\n",
      "RangeIndex: 1000 entries, 0 to 999\n",
      "Data columns (total 10 columns):\n",
      " #   Column                Non-Null Count  Dtype  \n",
      "---  ------                --------------  -----  \n",
      " 0   Gender                1000 non-null   int32  \n",
      " 1   City                  1000 non-null   int32  \n",
      " 2   Age                   1000 non-null   int64  \n",
      " 3   Income                1000 non-null   float64\n",
      " 4   Risk Tolerance        1000 non-null   int32  \n",
      " 5   Investment History    1000 non-null   object \n",
      " 6   Financial Objective   1000 non-null   int32  \n",
      " 7   Preferred Sector      1000 non-null   int32  \n",
      " 8   Investment Frequency  1000 non-null   int32  \n",
      " 9   Recommended Domain    1000 non-null   int64  \n",
      "dtypes: float64(1), int32(6), int64(2), object(1)\n",
      "memory usage: 54.8+ KB\n",
      "None\n"
     ]
    }
   ],
   "source": [
    "# 1. Vérification des informations de base sur le dataset\n",
    "print(\"\\nGeneral information about the dataset :\")\n",
    "print(data.info())"
   ]
  },
  {
   "cell_type": "code",
   "execution_count": 110,
   "metadata": {},
   "outputs": [
    {
     "name": "stdout",
     "output_type": "stream",
     "text": [
      "Number of lines after balancing : 1824\n",
      "Class distribution after SMOTE : Recommended Domain\n",
      "0    304\n",
      "4    304\n",
      "3    304\n",
      "2    304\n",
      "1    304\n",
      "5    304\n",
      "Name: count, dtype: int64\n"
     ]
    },
    {
     "name": "stdout",
     "output_type": "stream",
     "text": [
      "Random Forest - Precision : 84.00%\n"
     ]
    }
   ],
   "source": [
    "import pandas as pd\n",
    "from sklearn.model_selection import train_test_split\n",
    "from sklearn.metrics import accuracy_score\n",
    "from sklearn.ensemble import RandomForestClassifier\n",
    "from sklearn.preprocessing import LabelEncoder\n",
    "import warnings\n",
    "from imblearn.over_sampling import SMOTE\n",
    "\n",
    "\n",
    "# Ignorer les warnings\n",
    "warnings.filterwarnings(\"ignore\")\n",
    "\n",
    "# Séparation des variables explicatives (X) et de la cible (y)\n",
    "X = data.drop(columns=['Recommended Domain'])  # Features\n",
    "y = data['Recommended Domain']  # Target\n",
    "\n",
    "# Appliquer SMOTE pour équilibrer les classes\n",
    "smote = SMOTE(random_state=42)\n",
    "X_balanced, y_balanced = smote.fit_resample(X, y)\n",
    "\n",
    "print(f\"Number of lines after balancing : {len(y_balanced)}\")\n",
    "print(f\"Class distribution after SMOTE : {y_balanced.value_counts()}\")\n",
    "\n",
    "# Encoder la colonne \"Historique d'Investissement\"\n",
    "encoder = LabelEncoder()\n",
    "X['Investment History'] = encoder.fit_transform(X['Investment History'])\n",
    "\n",
    "# Division en ensemble d'entraînement et de test\n",
    "X_train, X_test, y_train, y_test = train_test_split(X, y, test_size=0.2, random_state=42)\n",
    "\n",
    "rf_model = RandomForestClassifier(\n",
    "    n_estimators=100,\n",
    "    class_weight=\"balanced\",  # Pondération automatique des classes\n",
    "    random_state=42\n",
    ")\n",
    "\n",
    "rf_model.fit(X_train, y_train)\n",
    "\n",
    "# Prédictions\n",
    "y_pred = rf_model.predict(X_test)\n",
    "\n",
    "# Évaluation\n",
    "accuracy = accuracy_score(y_test, y_pred)\n",
    "print(f\"Random Forest - Precision : {accuracy * 100:.2f}%\")\n"
   ]
  },
  {
   "cell_type": "code",
   "execution_count": 111,
   "metadata": {},
   "outputs": [
    {
     "name": "stdout",
     "output_type": "stream",
     "text": [
      "Model saved in 'projetML.pkl'\n"
     ]
    }
   ],
   "source": [
    "import pickle\n",
    "\n",
    "# Enregistrer le modèle entraîné\n",
    "with open(\"projetML.pkl\", \"wb\") as f:\n",
    "    pickle.dump(rf_model, f)\n",
    "\n",
    "print(\"Model saved in 'projetML.pkl'\")"
   ]
  },
  {
   "cell_type": "code",
   "execution_count": 112,
   "metadata": {},
   "outputs": [
    {
     "name": "stdout",
     "output_type": "stream",
     "text": [
      "Recommended Domain\n",
      "2    241\n",
      "3    225\n",
      "4    167\n",
      "0    150\n",
      "5      9\n",
      "1      8\n",
      "Name: count, dtype: int64\n"
     ]
    }
   ],
   "source": [
    "print(y_train.value_counts())\n"
   ]
  }
 ],
 "metadata": {
  "kernelspec": {
   "display_name": "Python 3",
   "language": "python",
   "name": "python3"
  },
  "language_info": {
   "codemirror_mode": {
    "name": "ipython",
    "version": 3
   },
   "file_extension": ".py",
   "mimetype": "text/x-python",
   "name": "python",
   "nbconvert_exporter": "python",
   "pygments_lexer": "ipython3",
   "version": "3.12.2"
  }
 },
 "nbformat": 4,
 "nbformat_minor": 2
}
